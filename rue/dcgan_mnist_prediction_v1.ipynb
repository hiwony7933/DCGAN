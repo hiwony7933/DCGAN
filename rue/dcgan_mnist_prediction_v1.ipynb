{
 "cells": [
  {
   "cell_type": "code",
   "execution_count": 1,
   "metadata": {},
   "outputs": [
    {
     "name": "stderr",
     "output_type": "stream",
     "text": [
      "Using TensorFlow backend.\n"
     ]
    }
   ],
   "source": [
    "from __future__ import print_function\n",
    "from keras.models import Sequential, Model\n",
    "from keras.layers import Input, Reshape, Dense, Dropout, MaxPooling2D, Conv2D, Flatten\n",
    "from keras.layers import Conv2DTranspose, LeakyReLU\n",
    "from keras.layers.core import Activation\n",
    "from keras.layers.normalization import BatchNormalization\n",
    "from keras.optimizers import Adam, RMSprop\n",
    "from keras import backend as K\n",
    "from keras import initializers\n",
    "import tensorflow as tf\n",
    "import numpy as np\n",
    "from tqdm import tqdm\n",
    "import cv2\n",
    "import math\n",
    "\n",
    "from keras.datasets import mnist\n",
    "\n",
    "import os\n",
    "\n",
    "from keras.utils.vis_utils import plot_model\n",
    "from keras.utils.generic_utils import Progbar\n",
    "\n",
    "import matplotlib.pyplot as plt\n",
    "from keras.models import load_model\n",
    "#from keras.utils import to_categorical"
   ]
  },
  {
   "cell_type": "code",
   "execution_count": 2,
   "metadata": {},
   "outputs": [],
   "source": [
    "def load_mnist_data():\n",
    "    \"\"\" load mnist data \"\"\"\n",
    "    (X_train, y_train), (X_test, y_test) = mnist.load_data()\n",
    "    #X_train = (X_train.astype(np.float32) - 127.5) / 127.5\n",
    "    #X_test = (X_test.astype(np.float32) - 127.5) / 127.5\n",
    "    X_train = X_train.astype(np.float32) / 255.#20200507\n",
    "    X_test = X_test.astype(np.float32) / 255. #20200507\n",
    "\n",
    "    X_train = X_train[:,:,:,None]\n",
    "    X_test = X_test[:,:,:,None]\n",
    "\n",
    "    X_test_original = X_test.copy()\n",
    "\n",
    "    #X_train = X_train[Y_train==0]\n",
    "    #X_test = X_test[Y_test==0]\n",
    "    \n",
    "    #y_train = to_categorical(y_train)\n",
    "    #y_test = to_categorical(y_test)\n",
    "    \n",
    "    print('train shape: ', X_train.shape)\n",
    "    print('X_test_original shape: ', X_test_original.shape)\n",
    "    print('y_train shape: ', y_train.shape)\n",
    "\n",
    "    return X_train, X_test, X_test_original, y_train, y_test"
   ]
  },
  {
   "cell_type": "code",
   "execution_count": 3,
   "metadata": {},
   "outputs": [],
   "source": [
    "\"\"\" build discriminator model \"\"\"\n",
    "def discriminator_model(img_size, channels):\n",
    "    inputs = Input((img_size, img_size, channels))\n",
    "\n",
    "    conv1 = Conv2D(64, (5,5), padding='same')(inputs)\n",
    "    conv1 = LeakyReLU(0.2)(conv1)\n",
    "    pool1 = MaxPooling2D(pool_size=(2,2))(conv1)\n",
    "\n",
    "    conv2 = Conv2D(128, (5,5), padding='same')(pool1)\n",
    "    conv2 = LeakyReLU(0.2)(conv2)\n",
    "    pool2 = MaxPooling2D(pool_size=(2,2))(conv2)\n",
    "\n",
    "    fc1 = Flatten()(pool2)\n",
    "    fc1 = Dense(1)(fc1)\n",
    "    outputs = Activation('sigmoid')(fc1)\n",
    "\n",
    "    model = Model(inputs=[inputs], outputs=[outputs])\n",
    "    model.summary()\n",
    "\n",
    "    return model"
   ]
  },
  {
   "cell_type": "code",
   "execution_count": 5,
   "metadata": {},
   "outputs": [
    {
     "name": "stdout",
     "output_type": "stream",
     "text": [
      "train shape:  (60000, 28, 28, 1)\n",
      "X_test_original shape:  (10000, 28, 28, 1)\n",
      "y_train shape:  (60000,)\n"
     ]
    }
   ],
   "source": [
    "X_train, X_test, X_test_original,y_train, y_test = load_mnist_data()"
   ]
  },
  {
   "cell_type": "code",
   "execution_count": 6,
   "metadata": {},
   "outputs": [],
   "source": [
    "ruined = X_train[:1000].copy()\n",
    "normal = X_train[1000:2000].copy()"
   ]
  },
  {
   "cell_type": "code",
   "execution_count": 7,
   "metadata": {},
   "outputs": [],
   "source": [
    "ruined[:,3,5:15] = 1\n",
    "ruined[:,1:10,5:10] = 1"
   ]
  },
  {
   "cell_type": "code",
   "execution_count": 8,
   "metadata": {},
   "outputs": [
    {
     "data": {
      "text/plain": [
       "<matplotlib.image.AxesImage at 0x2296a22f208>"
      ]
     },
     "execution_count": 8,
     "metadata": {},
     "output_type": "execute_result"
    },
    {
     "data": {
      "image/png": "[encoded data removed]",
      "text/plain": [
       "<Figure size 432x288 with 1 Axes>"
      ]
     },
     "metadata": {
      "needs_background": "light"
     },
     "output_type": "display_data"
    }
   ],
   "source": [
    "plt.imshow(ruined[0].reshape((28,28)), cmap='gray')"
   ]
  },
  {
   "cell_type": "code",
   "execution_count": 10,
   "metadata": {},
   "outputs": [
    {
     "name": "stdout",
     "output_type": "stream",
     "text": [
      "Model: \"model_2\"\n",
      "_________________________________________________________________\n",
      "Layer (type)                 Output Shape              Param #   \n",
      "=================================================================\n",
      "input_2 (InputLayer)         (None, 28, 28, 1)         0         \n",
      "_________________________________________________________________\n",
      "conv2d_3 (Conv2D)            (None, 28, 28, 64)        1664      \n",
      "_________________________________________________________________\n",
      "leaky_re_lu_3 (LeakyReLU)    (None, 28, 28, 64)        0         \n",
      "_________________________________________________________________\n",
      "max_pooling2d_3 (MaxPooling2 (None, 14, 14, 64)        0         \n",
      "_________________________________________________________________\n",
      "conv2d_4 (Conv2D)            (None, 14, 14, 128)       204928    \n",
      "_________________________________________________________________\n",
      "leaky_re_lu_4 (LeakyReLU)    (None, 14, 14, 128)       0         \n",
      "_________________________________________________________________\n",
      "max_pooling2d_4 (MaxPooling2 (None, 7, 7, 128)         0         \n",
      "_________________________________________________________________\n",
      "flatten_2 (Flatten)          (None, 6272)              0         \n",
      "_________________________________________________________________\n",
      "dense_2 (Dense)              (None, 1)                 6273      \n",
      "_________________________________________________________________\n",
      "activation_2 (Activation)    (None, 1)                 0         \n",
      "=================================================================\n",
      "Total params: 212,865\n",
      "Trainable params: 212,865\n",
      "Non-trainable params: 0\n",
      "_________________________________________________________________\n"
     ]
    }
   ],
   "source": [
    "dmodel = discriminator_model(28, 1)\n",
    "dmodel.load_weights('./saved_model/discriminator.h5')\n",
    "predicted_normal = dmodel.predict(normal)\n",
    "predicted_ruined = dmodel.predict(ruined)"
   ]
  },
  {
   "cell_type": "code",
   "execution_count": 11,
   "metadata": {},
   "outputs": [
    {
     "data": {
      "image/png": "[encoded data removed]",
      "text/plain": [
       "<Figure size 432x288 with 1 Axes>"
      ]
     },
     "metadata": {
      "needs_background": "light"
     },
     "output_type": "display_data"
    },
    {
     "data": {
      "image/png": "[encoded data removed]",
      "text/plain": [
       "<Figure size 432x288 with 1 Axes>"
      ]
     },
     "metadata": {
      "needs_background": "light"
     },
     "output_type": "display_data"
    }
   ],
   "source": [
    "import matplotlib.pyplot as plt\n",
    "\n",
    "plt.hist(predicted_normal, bins=50, range=(0,1))\n",
    "plt.gca().set(title='Frequency Histogram', ylabel='Frequency');\n",
    "plt.show()\n",
    "\n",
    "plt.hist(predicted_ruined, bins=50, range=(0,1))\n",
    "plt.gca().set(title='Frequency Histogram', ylabel='Frequency');"
   ]
  },
  {
   "cell_type": "code",
   "execution_count": 12,
   "metadata": {},
   "outputs": [
    {
     "name": "stdout",
     "output_type": "stream",
     "text": [
      "[[1.        ]\n",
      " [1.        ]\n",
      " [0.99999964]\n",
      " [1.        ]\n",
      " [1.        ]\n",
      " [1.        ]\n",
      " [1.        ]\n",
      " [1.        ]\n",
      " [1.        ]\n",
      " [1.        ]]\n"
     ]
    }
   ],
   "source": [
    "print(predicted_normal[:10])"
   ]
  }
 ],
 "metadata": {
  "kernelspec": {
   "display_name": "Python 3",
   "language": "python",
   "name": "python3"
  },
  "language_info": {
   "codemirror_mode": {
    "name": "ipython",
    "version": 3
   },
   "file_extension": ".py",
   "mimetype": "text/x-python",
   "name": "python",
   "nbconvert_exporter": "python",
   "pygments_lexer": "ipython3",
   "version": "3.7.7"
  }
 },
 "nbformat": 4,
 "nbformat_minor": 4
}
