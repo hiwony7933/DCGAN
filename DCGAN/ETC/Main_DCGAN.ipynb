{
 "cells": [
  {
   "cell_type": "code",
   "execution_count": null,
   "metadata": {},
   "outputs": [],
   "source": [
    "import numpy as np \n",
    "from keras.models import * \n",
    "from keras.layers import * \n",
    "from keras.optimizers import * \n",
    "from keras.datasets import mnist \n",
    "import keras.backend as K \n",
    "import matplotlib.pyplot as plt \n",
    "from DCGAN import *\n",
    "import time\n",
    "\n",
    "K.set_image_data_format('channels_last') "
   ]
  },
  {
   "cell_type": "code",
   "execution_count": null,
   "metadata": {},
   "outputs": [],
   "source": [
    "#x_train, x_test, y_train, y_test = np.load('binary_image_data.npy')\n",
    "(x_train, y_train), (x_test, y_test) = mnist.load_data()\n",
    "x_train = x_train.reshape(x_train.shape[0], x_train.shape[1], x_train.shape[2], 1).astype('float32')\n",
    "x_train = (x_train - 127.5) / 127.5 \n",
    "print(x_train.shape) "
   ]
  },
  {
   "cell_type": "code",
   "execution_count": null,
   "metadata": {},
   "outputs": [],
   "source": [
    "# Init network \n",
    "gan = Gan(x_train) "
   ]
  },
  {
   "cell_type": "code",
   "execution_count": null,
   "metadata": {},
   "outputs": [],
   "source": [
    "# Some parameters. \n",
    "epochs = 30 \n",
    "sample_size = 10 \n",
    "batch_size = 100\n",
    "train_per_epoch = x_train.shape[0] // batch_size\n",
    "history=[]\n",
    "\n",
    "for epoch in range(0, epochs): \n",
    "    start_time=time.time()\n",
    "    total_d_loss = 0.0 \n",
    "    total_a_loss = 0.0 \n",
    "    \n",
    "    for batch in range(0, train_per_epoch): \n",
    "        d_loss, a_loss, imgs = gan.train(batch_size) \n",
    "        total_d_loss += d_loss \n",
    "        total_a_loss += a_loss \n",
    "        \n",
    "    total_d_loss /= train_per_epoch \n",
    "    total_a_loss /= train_per_epoch\n",
    "    \n",
    "    recode =(epoch, total_d_loss, total_a_loss)\n",
    "    history.append(recode)\n",
    "\n",
    "    print(\"Epoch : {}, elapsed : {}, D Loss: {}, AM Loss: {}\".format(epoch + 1,time.time() - start_time, total_d_loss, total_a_loss)) \n",
    "    \n",
    "    fig, ax = plt.subplots(1, sample_size, figsize=(sample_size, 1)) \n",
    "    for i in range(0, sample_size): \n",
    "        ax[i].set_axis_off() \n",
    "        ax[i].imshow(imgs[i].reshape((gan.img_rows, gan.img_cols)), interpolation='nearest')\n",
    "    plt.show() \n",
    "    plt.close(fig)\n",
    "\n",
    "    gan.save()"
   ]
  },
  {
   "cell_type": "code",
   "execution_count": null,
   "metadata": {},
   "outputs": [],
   "source": [
    "from pandas import Series, DataFrame \n",
    "\n",
    "df = DataFrame(history, columns=['epoch', 'total_d_loss', 'total_a_loss'])\n",
    "\n",
    "df.plot(y=['d_loss', 'a_loss'])\n",
    "plt.legend(loc='upper right')\n",
    "plt.grid()\n",
    "plt.xlabel('epoch')\n",
    "plt.ylabel('loss')\n",
    "plt.show()"
   ]
  },
  {
   "cell_type": "code",
   "execution_count": null,
   "metadata": {},
   "outputs": [],
   "source": [
    "model.load_weights('gan_d_weights.h5')\n",
    "score = model.evaluate(X, y, verbos=1)"
   ]
  }
 ],
 "metadata": {
  "file_extension": ".py",
  "kernelspec": {
   "display_name": "Python 3",
   "language": "python",
   "name": "python3"
  },
  "language_info": {
   "codemirror_mode": {
    "name": "ipython",
    "version": 3
   },
   "file_extension": ".py",
   "mimetype": "text/x-python",
   "name": "python",
   "nbconvert_exporter": "python",
   "pygments_lexer": "ipython3",
   "version": "3.7.4-final"
  },
  "mimetype": "text/x-python",
  "name": "python",
  "npconvert_exporter": "python",
  "pygments_lexer": "ipython3",
  "version": 3
 },
 "nbformat": 4,
 "nbformat_minor": 2
}