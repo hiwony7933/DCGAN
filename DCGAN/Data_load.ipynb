{
 "nbformat": 4,
 "nbformat_minor": 2,
 "metadata": {
  "language_info": {
   "name": "python",
   "codemirror_mode": {
    "name": "ipython",
    "version": 3
   },
   "version": "3.7.4-final"
  },
  "orig_nbformat": 2,
  "file_extension": ".py",
  "mimetype": "text/x-python",
  "name": "python",
  "npconvert_exporter": "python",
  "pygments_lexer": "ipython3",
  "version": 3,
  "kernelspec": {
   "name": "python37464bitanaconda3condae788c5fa592f4db3927eca9f2fe371f6",
   "display_name": "Python 3.7.4 64-bit ('anaconda3': conda)"
  }
 },
 "cells": [
  {
   "cell_type": "code",
   "execution_count": 20,
   "metadata": {},
   "outputs": [
    {
     "output_type": "stream",
     "name": "stdout",
     "text": "cat/cat.991.jpg\ncat/cat.9915.jpg\n"
    }
   ],
   "source": [
    "from PIL import Image\n",
    "import os, glob, sys, numpy as np\n",
    "from sklearn.model_selection import train_test_split\n",
    "from keras.utils import np_utils\n",
    "\n",
    "path = 'cat'\n",
    "\n",
    "image_w = 64\n",
    "image_h = 64\n",
    "\n",
    "image_path_names = []\n",
    "person_names = set()\n",
    "\n",
    "X = []\n",
    "y = []\n",
    "\n",
    "for file_name in glob.glob(path + '/[a-zA-Z]*[1-9]*.jpg') : \n",
    "    image_path_names.append(file_name)\n",
    "    person_names.add(image_path_names[-1].split('/')[-2].split('_')[0])\n",
    "\n",
    "for i, f in enumerate(image_path_names) :\n",
    "    try :\n",
    "        img = Image.open(f)\n",
    "        img = img.convert('RGB')\n",
    "        img = img.resize((image_w, image_h))\n",
    "        data = np.asarray(img)\n",
    "        X.append(data)\n",
    "        y.append(person_names) \n",
    "        if i % 100 == 0 :\n",
    "            print(f)\n",
    "    except : \n",
    "        print(file_name + str(i) + '에러')"
   ]
  },
  {
   "cell_type": "code",
   "execution_count": 21,
   "metadata": {},
   "outputs": [
    {
     "output_type": "stream",
     "name": "stdout",
     "text": "(111, 64, 64, 3)\n"
    }
   ],
   "source": [
    "X = np.array(X)\n",
    "Y = np.array(y)\n",
    "print(X.shape)\n",
    "\n",
    "X_train, X_test, Y_train, Y_test = train_test_split(X, Y)\n",
    "xy = (X_train, X_test, Y_train, Y_test)\n",
    "np.save(\"binary_image_data.npy\", xy)"
   ]
  },
  {
   "cell_type": "code",
   "execution_count": null,
   "metadata": {},
   "outputs": [],
   "source": []
  }
 ]
}