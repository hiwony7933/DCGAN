{
 "cells": [
  {
   "cell_type": "code",
   "execution_count": 3,
   "metadata": {},
   "outputs": [
    {
     "output_type": "stream",
     "name": "stdout",
     "text": "1.0\n1.0\n3.0\n3.0\n6.0\n6.0\n10.0\n10.0\n15.0\n15.0\n21.0\n21.0\n28.0\n28.0\n36.0\n36.0\n45.0\n45.0\n55.0\n55.0\n"
    }
   ],
   "source": [
    "a = 0.0\n",
    "b = 0.0 \n",
    "\n",
    "for i in range(0, 10) : \n",
    "    a_ = i + 1\n",
    "    b_ = i + 1\n",
    "    a += a_\n",
    "    b += b_\n",
    "    print(a)\n",
    "    print(b)\n",
    "    "
   ]
  },
  {
   "cell_type": "code",
   "execution_count": 58,
   "metadata": {},
   "outputs": [
    {
     "output_type": "stream",
     "name": "stdout",
     "text": "[2.5]\n"
    }
   ],
   "source": [
    "import numpy as np \n",
    "\n",
    "b = np.array([])\n",
    "a1 = np.array([[1],[2],[3],[4]])\n",
    "a2 = np.array([[4,5,6],[1,2,9]])\n",
    "\n",
    "lne_a = len(a1)\n",
    "\n",
    "c = 0\n",
    "\n",
    "for i in range(lne_a) : \n",
    "    c += a1[i]\n",
    "    #print(a1[i])\n",
    "print(c / lne_a)"
   ]
  },
  {
   "cell_type": "code",
   "execution_count": null,
   "metadata": {},
   "outputs": [],
   "source": []
  },
  {
   "cell_type": "code",
   "execution_count": null,
   "metadata": {},
   "outputs": [],
   "source": []
  },
  {
   "cell_type": "code",
   "execution_count": null,
   "metadata": {},
   "outputs": [],
   "source": []
  }
 ],
 "metadata": {
  "language_info": {
   "codemirror_mode": {
    "name": "ipython",
    "version": 3
   },
   "file_extension": ".py",
   "mimetype": "text/x-python",
   "name": "python",
   "nbconvert_exporter": "python",
   "pygments_lexer": "ipython3",
   "version": "3.7.4-final"
  },
  "orig_nbformat": 2,
  "kernelspec": {
   "name": "python37464bitanaconda3condae788c5fa592f4db3927eca9f2fe371f6",
   "display_name": "Python 3.7.4 64-bit ('anaconda3': conda)"
  }
 },
 "nbformat": 4,
 "nbformat_minor": 2
}