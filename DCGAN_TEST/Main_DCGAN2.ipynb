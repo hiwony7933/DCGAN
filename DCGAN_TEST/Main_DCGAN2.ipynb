{
 "cells": [
  {
   "cell_type": "code",
   "execution_count": 1,
   "metadata": {},
   "outputs": [
    {
     "output_type": "stream",
     "name": "stderr",
     "text": "Using TensorFlow backend.\n"
    }
   ],
   "source": [
    "import numpy as np \n",
    "from keras.models import * \n",
    "from keras.layers import * \n",
    "from keras.optimizers import * \n",
    "from keras.datasets import mnist \n",
    "import keras.backend as K \n",
    "import matplotlib.pyplot as plt \n",
    "from DCGAN import *\n",
    "import time\n",
    "\n",
    "K.set_image_data_format('channels_last') "
   ]
  },
  {
   "cell_type": "code",
   "execution_count": 2,
   "metadata": {},
   "outputs": [
    {
     "output_type": "stream",
     "name": "stdout",
     "text": "(60000, 28, 28, 1)\n"
    }
   ],
   "source": [
    "#x_train, x_test, y_train, y_test = np.load('binary_image_data.npy')\n",
    "(x_train, y_train), (x_test, y_test) = mnist.load_data()\n",
    "x_train = x_train.reshape(x_train.shape[0], x_train.shape[1], x_train.shape[2], 1).astype('float32')\n",
    "x_train = (x_train -127.5) / 127.5 \n",
    "print(x_train.shape) "
   ]
  },
  {
   "cell_type": "code",
   "execution_count": 3,
   "metadata": {},
   "outputs": [
    {
     "output_type": "stream",
     "name": "stdout",
     "text": "input_shape:  (28, 28, 1) \n\nDiscriminator \n\nGenerator \n\nAM \n\n"
    }
   ],
   "source": [
    "# Init network \n",
    "gan = Gan(x_train) "
   ]
  },
  {
   "cell_type": "code",
   "execution_count": 4,
   "metadata": {},
   "outputs": [
    {
     "output_type": "stream",
     "name": "stdout",
     "text": "Generator \n\n"
    },
    {
     "output_type": "execute_result",
     "data": {
      "text/plain": "<matplotlib.image.AxesImage at 0x63b70e450>"
     },
     "metadata": {},
     "execution_count": 4
    },
    {
     "output_type": "display_data",
     "data": {
      "text/plain": "<Figure size 432x288 with 1 Axes>",
      "image/svg+xml": "<?xml version=\"1.0\" encoding=\"utf-8\" standalone=\"no\"?>\n<!DOCTYPE svg PUBLIC \"-//W3C//DTD SVG 1.1//EN\"\n  \"http://www.w3.org/Graphics/SVG/1.1/DTD/svg11.dtd\">\n<!-- Created with matplotlib (https://matplotlib.org/) -->\n<svg height=\"248.518125pt\" version=\"1.1\" viewBox=\"0 0 251.565 248.518125\" width=\"251.565pt\" xmlns=\"http://www.w3.org/2000/svg\" xmlns:xlink=\"http://www.w3.org/1999/xlink\">\n <defs>\n  <style type=\"text/css\">\n*{stroke-linecap:butt;stroke-linejoin:round;}\n  </style>\n </defs>\n <g id=\"figure_1\">\n  <g id=\"patch_1\">\n   <path d=\"M 0 248.518125 \nL 251.565 248.518125 \nL 251.565 0 \nL 0 0 \nz\n\" style=\"fill:none;\"/>\n  </g>\n  <g id=\"axes_1\">\n   <g id=\"patch_2\">\n    <path d=\"M 26.925 224.64 \nL 244.365 224.64 \nL 244.365 7.2 \nL 26.925 7.2 \nz\n\" style=\"fill:#ffffff;\"/>\n   </g>\n   <g clip-path=\"url(#p9306e8a6c4)\">\n    <image height=\"218\" id=\"image7e937bb987\" transform=\"scale(1 -1)translate(0 -218)\" width=\"218\" x=\"26.925\" xlink:href=\"data:image/png;base64,\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\" y=\"-6.64\"/>\n   </g>\n   <g id=\"matplotlib.axis_1\">\n    <g id=\"xtick_1\">\n     <g id=\"line2d_1\">\n      <defs>\n       <path d=\"M 0 0 \nL 0 3.5 \n\" id=\"m29610b5af4\" style=\"stroke:#000000;stroke-width:0.8;\"/>\n      </defs>\n      <g>\n       <use style=\"stroke:#000000;stroke-width:0.8;\" x=\"30.807857\" xlink:href=\"#m29610b5af4\" y=\"224.64\"/>\n      </g>\n     </g>\n     <g id=\"text_1\">\n      <!-- 0 -->\n      <defs>\n       <path d=\"M 31.78125 66.40625 \nQ 24.171875 66.40625 20.328125 58.90625 \nQ 16.5 51.421875 16.5 36.375 \nQ 16.5 21.390625 20.328125 13.890625 \nQ 24.171875 6.390625 31.78125 6.390625 \nQ 39.453125 6.390625 43.28125 13.890625 \nQ 47.125 21.390625 47.125 36.375 \nQ 47.125 51.421875 43.28125 58.90625 \nQ 39.453125 66.40625 31.78125 66.40625 \nz\nM 31.78125 74.21875 \nQ 44.046875 74.21875 50.515625 64.515625 \nQ 56.984375 54.828125 56.984375 36.375 \nQ 56.984375 17.96875 50.515625 8.265625 \nQ 44.046875 -1.421875 31.78125 -1.421875 \nQ 19.53125 -1.421875 13.0625 8.265625 \nQ 6.59375 17.96875 6.59375 36.375 \nQ 6.59375 54.828125 13.0625 64.515625 \nQ 19.53125 74.21875 31.78125 74.21875 \nz\n\" id=\"DejaVuSans-48\"/>\n      </defs>\n      <g transform=\"translate(27.626607 239.238437)scale(0.1 -0.1)\">\n       <use xlink:href=\"#DejaVuSans-48\"/>\n      </g>\n     </g>\n    </g>\n    <g id=\"xtick_2\">\n     <g id=\"line2d_2\">\n      <g>\n       <use style=\"stroke:#000000;stroke-width:0.8;\" x=\"69.636429\" xlink:href=\"#m29610b5af4\" y=\"224.64\"/>\n      </g>\n     </g>\n     <g id=\"text_2\">\n      <!-- 5 -->\n      <defs>\n       <path d=\"M 10.796875 72.90625 \nL 49.515625 72.90625 \nL 49.515625 64.59375 \nL 19.828125 64.59375 \nL 19.828125 46.734375 \nQ 21.96875 47.46875 24.109375 47.828125 \nQ 26.265625 48.1875 28.421875 48.1875 \nQ 40.625 48.1875 47.75 41.5 \nQ 54.890625 34.8125 54.890625 23.390625 \nQ 54.890625 11.625 47.5625 5.09375 \nQ 40.234375 -1.421875 26.90625 -1.421875 \nQ 22.3125 -1.421875 17.546875 -0.640625 \nQ 12.796875 0.140625 7.71875 1.703125 \nL 7.71875 11.625 \nQ 12.109375 9.234375 16.796875 8.0625 \nQ 21.484375 6.890625 26.703125 6.890625 \nQ 35.15625 6.890625 40.078125 11.328125 \nQ 45.015625 15.765625 45.015625 23.390625 \nQ 45.015625 31 40.078125 35.4375 \nQ 35.15625 39.890625 26.703125 39.890625 \nQ 22.75 39.890625 18.8125 39.015625 \nQ 14.890625 38.140625 10.796875 36.28125 \nz\n\" id=\"DejaVuSans-53\"/>\n      </defs>\n      <g transform=\"translate(66.455179 239.238437)scale(0.1 -0.1)\">\n       <use xlink:href=\"#DejaVuSans-53\"/>\n      </g>\n     </g>\n    </g>\n    <g id=\"xtick_3\">\n     <g id=\"line2d_3\">\n      <g>\n       <use style=\"stroke:#000000;stroke-width:0.8;\" x=\"108.465\" xlink:href=\"#m29610b5af4\" y=\"224.64\"/>\n      </g>\n     </g>\n     <g id=\"text_3\">\n      <!-- 10 -->\n      <defs>\n       <path d=\"M 12.40625 8.296875 \nL 28.515625 8.296875 \nL 28.515625 63.921875 \nL 10.984375 60.40625 \nL 10.984375 69.390625 \nL 28.421875 72.90625 \nL 38.28125 72.90625 \nL 38.28125 8.296875 \nL 54.390625 8.296875 \nL 54.390625 0 \nL 12.40625 0 \nz\n\" id=\"DejaVuSans-49\"/>\n      </defs>\n      <g transform=\"translate(102.1025 239.238437)scale(0.1 -0.1)\">\n       <use xlink:href=\"#DejaVuSans-49\"/>\n       <use x=\"63.623047\" xlink:href=\"#DejaVuSans-48\"/>\n      </g>\n     </g>\n    </g>\n    <g id=\"xtick_4\">\n     <g id=\"line2d_4\">\n      <g>\n       <use style=\"stroke:#000000;stroke-width:0.8;\" x=\"147.293571\" xlink:href=\"#m29610b5af4\" y=\"224.64\"/>\n      </g>\n     </g>\n     <g id=\"text_4\">\n      <!-- 15 -->\n      <g transform=\"translate(140.931071 239.238437)scale(0.1 -0.1)\">\n       <use xlink:href=\"#DejaVuSans-49\"/>\n       <use x=\"63.623047\" xlink:href=\"#DejaVuSans-53\"/>\n      </g>\n     </g>\n    </g>\n    <g id=\"xtick_5\">\n     <g id=\"line2d_5\">\n      <g>\n       <use style=\"stroke:#000000;stroke-width:0.8;\" x=\"186.122143\" xlink:href=\"#m29610b5af4\" y=\"224.64\"/>\n      </g>\n     </g>\n     <g id=\"text_5\">\n      <!-- 20 -->\n      <defs>\n       <path d=\"M 19.1875 8.296875 \nL 53.609375 8.296875 \nL 53.609375 0 \nL 7.328125 0 \nL 7.328125 8.296875 \nQ 12.9375 14.109375 22.625 23.890625 \nQ 32.328125 33.6875 34.8125 36.53125 \nQ 39.546875 41.84375 41.421875 45.53125 \nQ 43.3125 49.21875 43.3125 52.78125 \nQ 43.3125 58.59375 39.234375 62.25 \nQ 35.15625 65.921875 28.609375 65.921875 \nQ 23.96875 65.921875 18.8125 64.3125 \nQ 13.671875 62.703125 7.8125 59.421875 \nL 7.8125 69.390625 \nQ 13.765625 71.78125 18.9375 73 \nQ 24.125 74.21875 28.421875 74.21875 \nQ 39.75 74.21875 46.484375 68.546875 \nQ 53.21875 62.890625 53.21875 53.421875 \nQ 53.21875 48.921875 51.53125 44.890625 \nQ 49.859375 40.875 45.40625 35.40625 \nQ 44.1875 33.984375 37.640625 27.21875 \nQ 31.109375 20.453125 19.1875 8.296875 \nz\n\" id=\"DejaVuSans-50\"/>\n      </defs>\n      <g transform=\"translate(179.759643 239.238437)scale(0.1 -0.1)\">\n       <use xlink:href=\"#DejaVuSans-50\"/>\n       <use x=\"63.623047\" xlink:href=\"#DejaVuSans-48\"/>\n      </g>\n     </g>\n    </g>\n    <g id=\"xtick_6\">\n     <g id=\"line2d_6\">\n      <g>\n       <use style=\"stroke:#000000;stroke-width:0.8;\" x=\"224.950714\" xlink:href=\"#m29610b5af4\" y=\"224.64\"/>\n      </g>\n     </g>\n     <g id=\"text_6\">\n      <!-- 25 -->\n      <g transform=\"translate(218.588214 239.238437)scale(0.1 -0.1)\">\n       <use xlink:href=\"#DejaVuSans-50\"/>\n       <use x=\"63.623047\" xlink:href=\"#DejaVuSans-53\"/>\n      </g>\n     </g>\n    </g>\n   </g>\n   <g id=\"matplotlib.axis_2\">\n    <g id=\"ytick_1\">\n     <g id=\"line2d_7\">\n      <defs>\n       <path d=\"M 0 0 \nL -3.5 0 \n\" id=\"m17f5ba3c10\" style=\"stroke:#000000;stroke-width:0.8;\"/>\n      </defs>\n      <g>\n       <use style=\"stroke:#000000;stroke-width:0.8;\" x=\"26.925\" xlink:href=\"#m17f5ba3c10\" y=\"11.082857\"/>\n      </g>\n     </g>\n     <g id=\"text_7\">\n      <!-- 0 -->\n      <g transform=\"translate(13.5625 14.882076)scale(0.1 -0.1)\">\n       <use xlink:href=\"#DejaVuSans-48\"/>\n      </g>\n     </g>\n    </g>\n    <g id=\"ytick_2\">\n     <g id=\"line2d_8\">\n      <g>\n       <use style=\"stroke:#000000;stroke-width:0.8;\" x=\"26.925\" xlink:href=\"#m17f5ba3c10\" y=\"49.911429\"/>\n      </g>\n     </g>\n     <g id=\"text_8\">\n      <!-- 5 -->\n      <g transform=\"translate(13.5625 53.710647)scale(0.1 -0.1)\">\n       <use xlink:href=\"#DejaVuSans-53\"/>\n      </g>\n     </g>\n    </g>\n    <g id=\"ytick_3\">\n     <g id=\"line2d_9\">\n      <g>\n       <use style=\"stroke:#000000;stroke-width:0.8;\" x=\"26.925\" xlink:href=\"#m17f5ba3c10\" y=\"88.74\"/>\n      </g>\n     </g>\n     <g id=\"text_9\">\n      <!-- 10 -->\n      <g transform=\"translate(7.2 92.539219)scale(0.1 -0.1)\">\n       <use xlink:href=\"#DejaVuSans-49\"/>\n       <use x=\"63.623047\" xlink:href=\"#DejaVuSans-48\"/>\n      </g>\n     </g>\n    </g>\n    <g id=\"ytick_4\">\n     <g id=\"line2d_10\">\n      <g>\n       <use style=\"stroke:#000000;stroke-width:0.8;\" x=\"26.925\" xlink:href=\"#m17f5ba3c10\" y=\"127.568571\"/>\n      </g>\n     </g>\n     <g id=\"text_10\">\n      <!-- 15 -->\n      <g transform=\"translate(7.2 131.36779)scale(0.1 -0.1)\">\n       <use xlink:href=\"#DejaVuSans-49\"/>\n       <use x=\"63.623047\" xlink:href=\"#DejaVuSans-53\"/>\n      </g>\n     </g>\n    </g>\n    <g id=\"ytick_5\">\n     <g id=\"line2d_11\">\n      <g>\n       <use style=\"stroke:#000000;stroke-width:0.8;\" x=\"26.925\" xlink:href=\"#m17f5ba3c10\" y=\"166.397143\"/>\n      </g>\n     </g>\n     <g id=\"text_11\">\n      <!-- 20 -->\n      <g transform=\"translate(7.2 170.196362)scale(0.1 -0.1)\">\n       <use xlink:href=\"#DejaVuSans-50\"/>\n       <use x=\"63.623047\" xlink:href=\"#DejaVuSans-48\"/>\n      </g>\n     </g>\n    </g>\n    <g id=\"ytick_6\">\n     <g id=\"line2d_12\">\n      <g>\n       <use style=\"stroke:#000000;stroke-width:0.8;\" x=\"26.925\" xlink:href=\"#m17f5ba3c10\" y=\"205.225714\"/>\n      </g>\n     </g>\n     <g id=\"text_12\">\n      <!-- 25 -->\n      <g transform=\"translate(7.2 209.024933)scale(0.1 -0.1)\">\n       <use xlink:href=\"#DejaVuSans-50\"/>\n       <use x=\"63.623047\" xlink:href=\"#DejaVuSans-53\"/>\n      </g>\n     </g>\n    </g>\n   </g>\n   <g id=\"patch_3\">\n    <path d=\"M 26.925 224.64 \nL 26.925 7.2 \n\" style=\"fill:none;stroke:#000000;stroke-linecap:square;stroke-linejoin:miter;stroke-width:0.8;\"/>\n   </g>\n   <g id=\"patch_4\">\n    <path d=\"M 244.365 224.64 \nL 244.365 7.2 \n\" style=\"fill:none;stroke:#000000;stroke-linecap:square;stroke-linejoin:miter;stroke-width:0.8;\"/>\n   </g>\n   <g id=\"patch_5\">\n    <path d=\"M 26.925 224.64 \nL 244.365 224.64 \n\" style=\"fill:none;stroke:#000000;stroke-linecap:square;stroke-linejoin:miter;stroke-width:0.8;\"/>\n   </g>\n   <g id=\"patch_6\">\n    <path d=\"M 26.925 7.2 \nL 244.365 7.2 \n\" style=\"fill:none;stroke:#000000;stroke-linecap:square;stroke-linejoin:miter;stroke-width:0.8;\"/>\n   </g>\n  </g>\n </g>\n <defs>\n  <clipPath id=\"p9306e8a6c4\">\n   <rect height=\"217.44\" width=\"217.44\" x=\"26.925\" y=\"7.2\"/>\n  </clipPath>\n </defs>\n</svg>\n",
      "image/png": "[encoded data removed]"
     },
     "metadata": {
      "needs_background": "light"
     }
    }
   ],
   "source": [
    "generator = gan.create_g()\n",
    "noise = np.random.uniform(-1.0, 1.0, size=[1,100])\n",
    "generated_image = generator.predict(noise)\n",
    "plt.imshow(generated_image.reshape((28,28)), cmap='gray')"
   ]
  },
  {
   "cell_type": "code",
   "execution_count": 6,
   "metadata": {},
   "outputs": [
    {
     "output_type": "stream",
     "name": "stdout",
     "text": "Discriminator \n\n[[0.5000943]]\n"
    }
   ],
   "source": [
    "discriminator = gan.create_d()\n",
    "decision = discriminator.predict(generated_image)\n",
    "print (decision)\n",
    "\n",
    "gan.create_d().predict(imgs)"
   ]
  },
  {
   "cell_type": "code",
   "execution_count": 8,
   "metadata": {},
   "outputs": [
    {
     "output_type": "error",
     "ename": "RuntimeError",
     "evalue": "You must compile a model before training/testing. Use `model.compile(optimizer, loss)`.",
     "traceback": [
      "\u001b[0;31m---------------------------------------------------------------------------\u001b[0m",
      "\u001b[0;31mRuntimeError\u001b[0m                              Traceback (most recent call last)",
      "\u001b[0;32m<ipython-input-8-364422c3090c>\u001b[0m in \u001b[0;36m<module>\u001b[0;34m\u001b[0m\n\u001b[1;32m     13\u001b[0m \u001b[0;34m\u001b[0m\u001b[0m\n\u001b[1;32m     14\u001b[0m     \u001b[0;32mfor\u001b[0m \u001b[0mbatch\u001b[0m \u001b[0;32min\u001b[0m \u001b[0mrange\u001b[0m\u001b[0;34m(\u001b[0m\u001b[0;36m0\u001b[0m\u001b[0;34m,\u001b[0m \u001b[0mtrain_per_epoch\u001b[0m\u001b[0;34m)\u001b[0m\u001b[0;34m:\u001b[0m\u001b[0;34m\u001b[0m\u001b[0;34m\u001b[0m\u001b[0m\n\u001b[0;32m---> 15\u001b[0;31m         \u001b[0md_loss\u001b[0m\u001b[0;34m,\u001b[0m \u001b[0ma_loss\u001b[0m\u001b[0;34m,\u001b[0m \u001b[0mimgs\u001b[0m \u001b[0;34m=\u001b[0m \u001b[0mgan\u001b[0m\u001b[0;34m.\u001b[0m\u001b[0mtrain\u001b[0m\u001b[0;34m(\u001b[0m\u001b[0mbatch_size\u001b[0m\u001b[0;34m)\u001b[0m\u001b[0;34m\u001b[0m\u001b[0;34m\u001b[0m\u001b[0m\n\u001b[0m\u001b[1;32m     16\u001b[0m         \u001b[0mtotal_d_loss\u001b[0m \u001b[0;34m+=\u001b[0m \u001b[0md_loss\u001b[0m\u001b[0;34m\u001b[0m\u001b[0;34m\u001b[0m\u001b[0m\n\u001b[1;32m     17\u001b[0m         \u001b[0mtotal_a_loss\u001b[0m \u001b[0;34m+=\u001b[0m \u001b[0ma_loss\u001b[0m\u001b[0;34m\u001b[0m\u001b[0;34m\u001b[0m\u001b[0m\n",
      "\u001b[0;32m~/DCGAN/DCGAN_TEST/DCGAN.py\u001b[0m in \u001b[0;36mtrain\u001b[0;34m(self, batch_size)\u001b[0m\n\u001b[1;32m     94\u001b[0m         \u001b[0my\u001b[0m\u001b[0;34m[\u001b[0m\u001b[0mbatch_size\u001b[0m\u001b[0;34m:\u001b[0m\u001b[0;34m,\u001b[0m \u001b[0;34m:\u001b[0m\u001b[0;34m]\u001b[0m \u001b[0;34m=\u001b[0m \u001b[0;36m0\u001b[0m\u001b[0;34m\u001b[0m\u001b[0;34m\u001b[0m\u001b[0m\n\u001b[1;32m     95\u001b[0m         \u001b[0mself\u001b[0m\u001b[0;34m.\u001b[0m\u001b[0mD\u001b[0m\u001b[0;34m.\u001b[0m\u001b[0mtrainable\u001b[0m \u001b[0;34m=\u001b[0m \u001b[0;32mTrue\u001b[0m\u001b[0;34m\u001b[0m\u001b[0;34m\u001b[0m\u001b[0m\n\u001b[0;32m---> 96\u001b[0;31m         \u001b[0md_loss\u001b[0m \u001b[0;34m=\u001b[0m \u001b[0mself\u001b[0m\u001b[0;34m.\u001b[0m\u001b[0mD\u001b[0m\u001b[0;34m.\u001b[0m\u001b[0mtrain_on_batch\u001b[0m\u001b[0;34m(\u001b[0m\u001b[0mx\u001b[0m\u001b[0;34m,\u001b[0m \u001b[0my\u001b[0m\u001b[0;34m)\u001b[0m\u001b[0;34m\u001b[0m\u001b[0;34m\u001b[0m\u001b[0m\n\u001b[0m\u001b[1;32m     97\u001b[0m \u001b[0;34m\u001b[0m\u001b[0m\n\u001b[1;32m     98\u001b[0m         \u001b[0my\u001b[0m \u001b[0;34m=\u001b[0m \u001b[0mnp\u001b[0m\u001b[0;34m.\u001b[0m\u001b[0mones\u001b[0m\u001b[0;34m(\u001b[0m\u001b[0;34m[\u001b[0m\u001b[0mbatch_size\u001b[0m\u001b[0;34m,\u001b[0m \u001b[0;36m1\u001b[0m\u001b[0;34m]\u001b[0m\u001b[0;34m)\u001b[0m\u001b[0;34m\u001b[0m\u001b[0;34m\u001b[0m\u001b[0m\n",
      "\u001b[0;32m~/opt/anaconda3/lib/python3.7/site-packages/keras/engine/training.py\u001b[0m in \u001b[0;36mtrain_on_batch\u001b[0;34m(self, x, y, sample_weight, class_weight, reset_metrics)\u001b[0m\n\u001b[1;32m   1506\u001b[0m             \u001b[0mx\u001b[0m\u001b[0;34m,\u001b[0m \u001b[0my\u001b[0m\u001b[0;34m,\u001b[0m\u001b[0;34m\u001b[0m\u001b[0;34m\u001b[0m\u001b[0m\n\u001b[1;32m   1507\u001b[0m             \u001b[0msample_weight\u001b[0m\u001b[0;34m=\u001b[0m\u001b[0msample_weight\u001b[0m\u001b[0;34m,\u001b[0m\u001b[0;34m\u001b[0m\u001b[0;34m\u001b[0m\u001b[0m\n\u001b[0;32m-> 1508\u001b[0;31m             class_weight=class_weight)\n\u001b[0m\u001b[1;32m   1509\u001b[0m         \u001b[0;32mif\u001b[0m \u001b[0mself\u001b[0m\u001b[0;34m.\u001b[0m\u001b[0m_uses_dynamic_learning_phase\u001b[0m\u001b[0;34m(\u001b[0m\u001b[0;34m)\u001b[0m\u001b[0;34m:\u001b[0m\u001b[0;34m\u001b[0m\u001b[0;34m\u001b[0m\u001b[0m\n\u001b[1;32m   1510\u001b[0m             \u001b[0mins\u001b[0m \u001b[0;34m=\u001b[0m \u001b[0mx\u001b[0m \u001b[0;34m+\u001b[0m \u001b[0my\u001b[0m \u001b[0;34m+\u001b[0m \u001b[0msample_weights\u001b[0m \u001b[0;34m+\u001b[0m \u001b[0;34m[\u001b[0m\u001b[0;36m1\u001b[0m\u001b[0;34m]\u001b[0m\u001b[0;34m\u001b[0m\u001b[0;34m\u001b[0m\u001b[0m\n",
      "\u001b[0;32m~/opt/anaconda3/lib/python3.7/site-packages/keras/engine/training.py\u001b[0m in \u001b[0;36m_standardize_user_data\u001b[0;34m(self, x, y, sample_weight, class_weight, check_array_lengths, batch_size)\u001b[0m\n\u001b[1;32m    506\u001b[0m         \u001b[0;32mif\u001b[0m \u001b[0my\u001b[0m \u001b[0;32mis\u001b[0m \u001b[0;32mnot\u001b[0m \u001b[0;32mNone\u001b[0m\u001b[0;34m:\u001b[0m\u001b[0;34m\u001b[0m\u001b[0;34m\u001b[0m\u001b[0m\n\u001b[1;32m    507\u001b[0m             \u001b[0;32mif\u001b[0m \u001b[0;32mnot\u001b[0m \u001b[0mself\u001b[0m\u001b[0;34m.\u001b[0m\u001b[0moptimizer\u001b[0m\u001b[0;34m:\u001b[0m\u001b[0;34m\u001b[0m\u001b[0;34m\u001b[0m\u001b[0m\n\u001b[0;32m--> 508\u001b[0;31m                 raise RuntimeError('You must compile a model before '\n\u001b[0m\u001b[1;32m    509\u001b[0m                                    \u001b[0;34m'training/testing. '\u001b[0m\u001b[0;34m\u001b[0m\u001b[0;34m\u001b[0m\u001b[0m\n\u001b[1;32m    510\u001b[0m                                    'Use `model.compile(optimizer, loss)`.')\n",
      "\u001b[0;31mRuntimeError\u001b[0m: You must compile a model before training/testing. Use `model.compile(optimizer, loss)`."
     ]
    }
   ],
   "source": [
    "# Some parameters. \n",
    "epochs = 1 \n",
    "sample_size = 10 \n",
    "batch_size = 100\n",
    "train_per_epoch = x_train.shape[0] // batch_size\n",
    "history=[]\n",
    "\n",
    "\n",
    "for epoch in range(0, epochs): \n",
    "    start_time = time.time()\n",
    "    total_d_loss = 0.0 \n",
    "    total_a_loss = 0.0 \n",
    "    \n",
    "    for batch in range(0, train_per_epoch): \n",
    "        d_loss, a_loss, imgs = gan.train(batch_size) \n",
    "        total_d_loss += d_loss \n",
    "        total_a_loss += a_loss \n",
    "        \n",
    "    total_d_loss /= train_per_epoch \n",
    "    total_a_loss /= train_per_epoch\n",
    "    \n",
    "    recode =(epoch, total_d_loss, total_a_loss)\n",
    "    history.append(recode)\n",
    "\n",
    "    print(\"Epoch : {}, elapsed : {}, D Loss: {}, AM Loss: {}\".format(epoch + 1, time.time() - start_time, total_d_loss, total_a_loss)) \n",
    "    \n",
    "    fig, ax = plt.subplots(1, sample_size, figsize=(sample_size, 1)) \n",
    "    \n",
    "    for i in range(0, sample_size): \n",
    "        ax[i].set_axis_off() \n",
    "        ax[i].imshow(imgs[i].reshape((gan.img_rows, gan.img_cols)), interpolation='nearest')\n",
    "    plt.show() \n",
    "    plt.close(fig)\n",
    "\n",
    "    gan.save()"
   ]
  },
  {
   "cell_type": "code",
   "execution_count": null,
   "metadata": {},
   "outputs": [],
   "source": [
    "from pandas import Series, DataFrame \n",
    "\n",
    "df = DataFrame(history, columns=['epoch', 'total_d_loss', 'total_a_loss'])\n",
    "\n",
    "df.plot(y=['d_loss', 'a_loss'])\n",
    "plt.legend(loc='upper right')\n",
    "plt.grid()\n",
    "plt.xlabel('epoch')\n",
    "plt.ylabel('loss')\n",
    "plt.show()"
   ]
  },
  {
   "cell_type": "code",
   "execution_count": null,
   "metadata": {},
   "outputs": [],
   "source": []
  }
 ],
 "metadata": {
  "file_extension": ".py",
  "kernelspec": {
   "display_name": "Python 3",
   "language": "python",
   "name": "python3"
  },
  "language_info": {
   "codemirror_mode": {
    "name": "ipython",
    "version": 3
   },
   "file_extension": ".py",
   "mimetype": "text/x-python",
   "name": "python",
   "nbconvert_exporter": "python",
   "pygments_lexer": "ipython3",
   "version": "3.7.4-final"
  },
  "mimetype": "text/x-python",
  "name": "python",
  "npconvert_exporter": "python",
  "pygments_lexer": "ipython3",
  "version": 3
 },
 "nbformat": 4,
 "nbformat_minor": 2
}