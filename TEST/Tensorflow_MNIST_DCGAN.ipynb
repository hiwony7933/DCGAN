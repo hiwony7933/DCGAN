{
 "cells": [
  {
   "cell_type": "code",
   "execution_count": 9,
   "metadata": {},
   "outputs": [],
   "source": [
    "import glob\n",
    "import imageio\n",
    "import matplotlib.pyplot as plt\n",
    "import numpy as np\n",
    "import os\n",
    "import PIL\n",
    "from tensorflow.keras import layers\n",
    "import time\n",
    "import tensorflow as tf\n",
    "\n",
    "from IPython import display\n",
    "\n",
    "(train_images, train_labels), (_, _) = tf.keras.datasets.mnist.load_data()\n",
    "\n",
    "train_images = train_images.reshape(train_images.shape[0], 28, 28, 1).astype('float32')\n",
    "train_images = (train_images - 127.5) / 127.5 # 이미지를 [-1, 1]로 정규화합니다.\n",
    "\n",
    "BUFFER_SIZE = 60000\n",
    "BATCH_SIZE = 256\n",
    "\n",
    "# 데이터 배치를 만들고 섞습니다.\n",
    "train_dataset = tf.data.Dataset.from_tensor_slices(train_images).shuffle(BUFFER_SIZE).batch(BATCH_SIZE)"
   ]
  },
  {
   "cell_type": "code",
   "execution_count": 10,
   "metadata": {},
   "outputs": [],
   "source": [
    "def make_generator_model():\n",
    "    model = tf.keras.Sequential()\n",
    "    model.add(layers.Dense(7*7*256, use_bias=False, input_shape=(100,)))\n",
    "    model.add(layers.BatchNormalization())\n",
    "    model.add(layers.LeakyReLU())\n",
    "\n",
    "    model.add(layers.Reshape((7, 7, 256)))\n",
    "\n",
    "    model.add(layers.Conv2DTranspose(128, (5, 5), strides=(1, 1), padding='same', use_bias=False))\n",
    "    model.add(layers.BatchNormalization())\n",
    "    model.add(layers.LeakyReLU())\n",
    "\n",
    "    model.add(layers.Conv2DTranspose(64, (5, 5), strides=(2, 2), padding='same', use_bias=False))\n",
    "    model.add(layers.BatchNormalization())\n",
    "    model.add(layers.LeakyReLU())\n",
    "\n",
    "    model.add(layers.Conv2DTranspose(1, (5, 5), strides=(2, 2), padding='same', use_bias=False, activation='tanh'))\n",
    "\n",
    "    return model"
   ]
  },
  {
   "cell_type": "code",
   "execution_count": 11,
   "metadata": {},
   "outputs": [
    {
     "output_type": "execute_result",
     "data": {
      "text/plain": "<matplotlib.image.AxesImage at 0x643d4ee90>"
     },
     "metadata": {},
     "execution_count": 11
    },
    {
     "output_type": "display_data",
     "data": {
      "text/plain": "<Figure size 432x288 with 1 Axes>",
      "image/svg+xml": "<?xml version=\"1.0\" encoding=\"utf-8\" standalone=\"no\"?>\n<!DOCTYPE svg PUBLIC \"-//W3C//DTD SVG 1.1//EN\"\n  \"http://www.w3.org/Graphics/SVG/1.1/DTD/svg11.dtd\">\n<!-- Created with matplotlib (https://matplotlib.org/) -->\n<svg height=\"248.518125pt\" version=\"1.1\" viewBox=\"0 0 251.565 248.518125\" width=\"251.565pt\" xmlns=\"http://www.w3.org/2000/svg\" xmlns:xlink=\"http://www.w3.org/1999/xlink\">\n <defs>\n  <style type=\"text/css\">\n*{stroke-linecap:butt;stroke-linejoin:round;}\n  </style>\n </defs>\n <g id=\"figure_1\">\n  <g id=\"patch_1\">\n   <path d=\"M 0 248.518125 \nL 251.565 248.518125 \nL 251.565 0 \nL 0 0 \nz\n\" style=\"fill:none;\"/>\n  </g>\n  <g id=\"axes_1\">\n   <g id=\"patch_2\">\n    <path d=\"M 26.925 224.64 \nL 244.365 224.64 \nL 244.365 7.2 \nL 26.925 7.2 \nz\n\" style=\"fill:#ffffff;\"/>\n   </g>\n   <g clip-path=\"url(#p5d9fc0fa39)\">\n    <image height=\"218\" id=\"image4393b3b526\" transform=\"scale(1 -1)translate(0 -218)\" width=\"218\" x=\"26.925\" xlink:href=\"data:image/png;base64,\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\" y=\"-6.64\"/>\n   </g>\n   <g id=\"matplotlib.axis_1\">\n    <g id=\"xtick_1\">\n     <g id=\"line2d_1\">\n      <defs>\n       <path d=\"M 0 0 \nL 0 3.5 \n\" id=\"mb9c8293072\" style=\"stroke:#000000;stroke-width:0.8;\"/>\n      </defs>\n      <g>\n       <use style=\"stroke:#000000;stroke-width:0.8;\" x=\"30.807857\" xlink:href=\"#mb9c8293072\" y=\"224.64\"/>\n      </g>\n     </g>\n     <g id=\"text_1\">\n      <!-- 0 -->\n      <defs>\n       <path d=\"M 31.78125 66.40625 \nQ 24.171875 66.40625 20.328125 58.90625 \nQ 16.5 51.421875 16.5 36.375 \nQ 16.5 21.390625 20.328125 13.890625 \nQ 24.171875 6.390625 31.78125 6.390625 \nQ 39.453125 6.390625 43.28125 13.890625 \nQ 47.125 21.390625 47.125 36.375 \nQ 47.125 51.421875 43.28125 58.90625 \nQ 39.453125 66.40625 31.78125 66.40625 \nz\nM 31.78125 74.21875 \nQ 44.046875 74.21875 50.515625 64.515625 \nQ 56.984375 54.828125 56.984375 36.375 \nQ 56.984375 17.96875 50.515625 8.265625 \nQ 44.046875 -1.421875 31.78125 -1.421875 \nQ 19.53125 -1.421875 13.0625 8.265625 \nQ 6.59375 17.96875 6.59375 36.375 \nQ 6.59375 54.828125 13.0625 64.515625 \nQ 19.53125 74.21875 31.78125 74.21875 \nz\n\" id=\"DejaVuSans-48\"/>\n      </defs>\n      <g transform=\"translate(27.626607 239.238437)scale(0.1 -0.1)\">\n       <use xlink:href=\"#DejaVuSans-48\"/>\n      </g>\n     </g>\n    </g>\n    <g id=\"xtick_2\">\n     <g id=\"line2d_2\">\n      <g>\n       <use style=\"stroke:#000000;stroke-width:0.8;\" x=\"69.636429\" xlink:href=\"#mb9c8293072\" y=\"224.64\"/>\n      </g>\n     </g>\n     <g id=\"text_2\">\n      <!-- 5 -->\n      <defs>\n       <path d=\"M 10.796875 72.90625 \nL 49.515625 72.90625 \nL 49.515625 64.59375 \nL 19.828125 64.59375 \nL 19.828125 46.734375 \nQ 21.96875 47.46875 24.109375 47.828125 \nQ 26.265625 48.1875 28.421875 48.1875 \nQ 40.625 48.1875 47.75 41.5 \nQ 54.890625 34.8125 54.890625 23.390625 \nQ 54.890625 11.625 47.5625 5.09375 \nQ 40.234375 -1.421875 26.90625 -1.421875 \nQ 22.3125 -1.421875 17.546875 -0.640625 \nQ 12.796875 0.140625 7.71875 1.703125 \nL 7.71875 11.625 \nQ 12.109375 9.234375 16.796875 8.0625 \nQ 21.484375 6.890625 26.703125 6.890625 \nQ 35.15625 6.890625 40.078125 11.328125 \nQ 45.015625 15.765625 45.015625 23.390625 \nQ 45.015625 31 40.078125 35.4375 \nQ 35.15625 39.890625 26.703125 39.890625 \nQ 22.75 39.890625 18.8125 39.015625 \nQ 14.890625 38.140625 10.796875 36.28125 \nz\n\" id=\"DejaVuSans-53\"/>\n      </defs>\n      <g transform=\"translate(66.455179 239.238437)scale(0.1 -0.1)\">\n       <use xlink:href=\"#DejaVuSans-53\"/>\n      </g>\n     </g>\n    </g>\n    <g id=\"xtick_3\">\n     <g id=\"line2d_3\">\n      <g>\n       <use style=\"stroke:#000000;stroke-width:0.8;\" x=\"108.465\" xlink:href=\"#mb9c8293072\" y=\"224.64\"/>\n      </g>\n     </g>\n     <g id=\"text_3\">\n      <!-- 10 -->\n      <defs>\n       <path d=\"M 12.40625 8.296875 \nL 28.515625 8.296875 \nL 28.515625 63.921875 \nL 10.984375 60.40625 \nL 10.984375 69.390625 \nL 28.421875 72.90625 \nL 38.28125 72.90625 \nL 38.28125 8.296875 \nL 54.390625 8.296875 \nL 54.390625 0 \nL 12.40625 0 \nz\n\" id=\"DejaVuSans-49\"/>\n      </defs>\n      <g transform=\"translate(102.1025 239.238437)scale(0.1 -0.1)\">\n       <use xlink:href=\"#DejaVuSans-49\"/>\n       <use x=\"63.623047\" xlink:href=\"#DejaVuSans-48\"/>\n      </g>\n     </g>\n    </g>\n    <g id=\"xtick_4\">\n     <g id=\"line2d_4\">\n      <g>\n       <use style=\"stroke:#000000;stroke-width:0.8;\" x=\"147.293571\" xlink:href=\"#mb9c8293072\" y=\"224.64\"/>\n      </g>\n     </g>\n     <g id=\"text_4\">\n      <!-- 15 -->\n      <g transform=\"translate(140.931071 239.238437)scale(0.1 -0.1)\">\n       <use xlink:href=\"#DejaVuSans-49\"/>\n       <use x=\"63.623047\" xlink:href=\"#DejaVuSans-53\"/>\n      </g>\n     </g>\n    </g>\n    <g id=\"xtick_5\">\n     <g id=\"line2d_5\">\n      <g>\n       <use style=\"stroke:#000000;stroke-width:0.8;\" x=\"186.122143\" xlink:href=\"#mb9c8293072\" y=\"224.64\"/>\n      </g>\n     </g>\n     <g id=\"text_5\">\n      <!-- 20 -->\n      <defs>\n       <path d=\"M 19.1875 8.296875 \nL 53.609375 8.296875 \nL 53.609375 0 \nL 7.328125 0 \nL 7.328125 8.296875 \nQ 12.9375 14.109375 22.625 23.890625 \nQ 32.328125 33.6875 34.8125 36.53125 \nQ 39.546875 41.84375 41.421875 45.53125 \nQ 43.3125 49.21875 43.3125 52.78125 \nQ 43.3125 58.59375 39.234375 62.25 \nQ 35.15625 65.921875 28.609375 65.921875 \nQ 23.96875 65.921875 18.8125 64.3125 \nQ 13.671875 62.703125 7.8125 59.421875 \nL 7.8125 69.390625 \nQ 13.765625 71.78125 18.9375 73 \nQ 24.125 74.21875 28.421875 74.21875 \nQ 39.75 74.21875 46.484375 68.546875 \nQ 53.21875 62.890625 53.21875 53.421875 \nQ 53.21875 48.921875 51.53125 44.890625 \nQ 49.859375 40.875 45.40625 35.40625 \nQ 44.1875 33.984375 37.640625 27.21875 \nQ 31.109375 20.453125 19.1875 8.296875 \nz\n\" id=\"DejaVuSans-50\"/>\n      </defs>\n      <g transform=\"translate(179.759643 239.238437)scale(0.1 -0.1)\">\n       <use xlink:href=\"#DejaVuSans-50\"/>\n       <use x=\"63.623047\" xlink:href=\"#DejaVuSans-48\"/>\n      </g>\n     </g>\n    </g>\n    <g id=\"xtick_6\">\n     <g id=\"line2d_6\">\n      <g>\n       <use style=\"stroke:#000000;stroke-width:0.8;\" x=\"224.950714\" xlink:href=\"#mb9c8293072\" y=\"224.64\"/>\n      </g>\n     </g>\n     <g id=\"text_6\">\n      <!-- 25 -->\n      <g transform=\"translate(218.588214 239.238437)scale(0.1 -0.1)\">\n       <use xlink:href=\"#DejaVuSans-50\"/>\n       <use x=\"63.623047\" xlink:href=\"#DejaVuSans-53\"/>\n      </g>\n     </g>\n    </g>\n   </g>\n   <g id=\"matplotlib.axis_2\">\n    <g id=\"ytick_1\">\n     <g id=\"line2d_7\">\n      <defs>\n       <path d=\"M 0 0 \nL -3.5 0 \n\" id=\"mdf88a946a1\" style=\"stroke:#000000;stroke-width:0.8;\"/>\n      </defs>\n      <g>\n       <use style=\"stroke:#000000;stroke-width:0.8;\" x=\"26.925\" xlink:href=\"#mdf88a946a1\" y=\"11.082857\"/>\n      </g>\n     </g>\n     <g id=\"text_7\">\n      <!-- 0 -->\n      <g transform=\"translate(13.5625 14.882076)scale(0.1 -0.1)\">\n       <use xlink:href=\"#DejaVuSans-48\"/>\n      </g>\n     </g>\n    </g>\n    <g id=\"ytick_2\">\n     <g id=\"line2d_8\">\n      <g>\n       <use style=\"stroke:#000000;stroke-width:0.8;\" x=\"26.925\" xlink:href=\"#mdf88a946a1\" y=\"49.911429\"/>\n      </g>\n     </g>\n     <g id=\"text_8\">\n      <!-- 5 -->\n      <g transform=\"translate(13.5625 53.710647)scale(0.1 -0.1)\">\n       <use xlink:href=\"#DejaVuSans-53\"/>\n      </g>\n     </g>\n    </g>\n    <g id=\"ytick_3\">\n     <g id=\"line2d_9\">\n      <g>\n       <use style=\"stroke:#000000;stroke-width:0.8;\" x=\"26.925\" xlink:href=\"#mdf88a946a1\" y=\"88.74\"/>\n      </g>\n     </g>\n     <g id=\"text_9\">\n      <!-- 10 -->\n      <g transform=\"translate(7.2 92.539219)scale(0.1 -0.1)\">\n       <use xlink:href=\"#DejaVuSans-49\"/>\n       <use x=\"63.623047\" xlink:href=\"#DejaVuSans-48\"/>\n      </g>\n     </g>\n    </g>\n    <g id=\"ytick_4\">\n     <g id=\"line2d_10\">\n      <g>\n       <use style=\"stroke:#000000;stroke-width:0.8;\" x=\"26.925\" xlink:href=\"#mdf88a946a1\" y=\"127.568571\"/>\n      </g>\n     </g>\n     <g id=\"text_10\">\n      <!-- 15 -->\n      <g transform=\"translate(7.2 131.36779)scale(0.1 -0.1)\">\n       <use xlink:href=\"#DejaVuSans-49\"/>\n       <use x=\"63.623047\" xlink:href=\"#DejaVuSans-53\"/>\n      </g>\n     </g>\n    </g>\n    <g id=\"ytick_5\">\n     <g id=\"line2d_11\">\n      <g>\n       <use style=\"stroke:#000000;stroke-width:0.8;\" x=\"26.925\" xlink:href=\"#mdf88a946a1\" y=\"166.397143\"/>\n      </g>\n     </g>\n     <g id=\"text_11\">\n      <!-- 20 -->\n      <g transform=\"translate(7.2 170.196362)scale(0.1 -0.1)\">\n       <use xlink:href=\"#DejaVuSans-50\"/>\n       <use x=\"63.623047\" xlink:href=\"#DejaVuSans-48\"/>\n      </g>\n     </g>\n    </g>\n    <g id=\"ytick_6\">\n     <g id=\"line2d_12\">\n      <g>\n       <use style=\"stroke:#000000;stroke-width:0.8;\" x=\"26.925\" xlink:href=\"#mdf88a946a1\" y=\"205.225714\"/>\n      </g>\n     </g>\n     <g id=\"text_12\">\n      <!-- 25 -->\n      <g transform=\"translate(7.2 209.024933)scale(0.1 -0.1)\">\n       <use xlink:href=\"#DejaVuSans-50\"/>\n       <use x=\"63.623047\" xlink:href=\"#DejaVuSans-53\"/>\n      </g>\n     </g>\n    </g>\n   </g>\n   <g id=\"patch_3\">\n    <path d=\"M 26.925 224.64 \nL 26.925 7.2 \n\" style=\"fill:none;stroke:#000000;stroke-linecap:square;stroke-linejoin:miter;stroke-width:0.8;\"/>\n   </g>\n   <g id=\"patch_4\">\n    <path d=\"M 244.365 224.64 \nL 244.365 7.2 \n\" style=\"fill:none;stroke:#000000;stroke-linecap:square;stroke-linejoin:miter;stroke-width:0.8;\"/>\n   </g>\n   <g id=\"patch_5\">\n    <path d=\"M 26.925 224.64 \nL 244.365 224.64 \n\" style=\"fill:none;stroke:#000000;stroke-linecap:square;stroke-linejoin:miter;stroke-width:0.8;\"/>\n   </g>\n   <g id=\"patch_6\">\n    <path d=\"M 26.925 7.2 \nL 244.365 7.2 \n\" style=\"fill:none;stroke:#000000;stroke-linecap:square;stroke-linejoin:miter;stroke-width:0.8;\"/>\n   </g>\n  </g>\n </g>\n <defs>\n  <clipPath id=\"p5d9fc0fa39\">\n   <rect height=\"217.44\" width=\"217.44\" x=\"26.925\" y=\"7.2\"/>\n  </clipPath>\n </defs>\n</svg>\n",
      "image/png": "[encoded data removed]"
     },
     "metadata": {
      "needs_background": "light"
     }
    }
   ],
   "source": [
    "generator = make_generator_model()\n",
    "\n",
    "noise = tf.random.normal([1, 100])\n",
    "\n",
    "generated_image = generator(noise, training=False)\n",
    "\n",
    "plt.imshow(generated_image[0, :, :, 0], cmap='gray')"
   ]
  },
  {
   "cell_type": "code",
   "execution_count": 13,
   "metadata": {},
   "outputs": [],
   "source": [
    "def make_discriminator_model():\n",
    "    model = tf.keras.Sequential()\n",
    "    model.add(layers.Conv2D(64, (5, 5), strides=(2, 2), padding='same', input_shape=[28, 28, 1]))\n",
    "    model.add(layers.LeakyReLU())\n",
    "    model.add(layers.Dropout(0.3))\n",
    "\n",
    "    model.add(layers.Conv2D(128, (5, 5), strides=(2, 2), padding='same'))\n",
    "    model.add(layers.LeakyReLU())\n",
    "    model.add(layers.Dropout(0.3))\n",
    "\n",
    "    model.add(layers.Flatten())\n",
    "    model.add(layers.Dense(1))\n",
    "\n",
    "    return model"
   ]
  },
  {
   "cell_type": "code",
   "execution_count": 38,
   "metadata": {},
   "outputs": [
    {
     "output_type": "stream",
     "name": "stdout",
     "text": "tf.Tensor([[-0.00272982]], shape=(1, 1), dtype=float32)\n"
    }
   ],
   "source": [
    "discriminator = make_discriminator_model()\n",
    "decision = discriminator(generated_image)\n",
    "print (decision)"
   ]
  },
  {
   "cell_type": "code",
   "execution_count": 6,
   "metadata": {},
   "outputs": [],
   "source": [
    "# 이 메서드는 크로스 엔트로피 손실함수 (cross entropy loss)를 계산하기 위해 헬퍼 (helper) 함수를 반환합니다.\n",
    "cross_entropy = tf.keras.losses.BinaryCrossentropy(from_logits=True)"
   ]
  },
  {
   "cell_type": "code",
   "execution_count": 8,
   "metadata": {},
   "outputs": [],
   "source": [
    "def discriminator_loss(real_output, fake_output):\n",
    "    real_loss = cross_entropy(tf.ones_like(real_output), real_output)\n",
    "    fake_loss = cross_entropy(tf.zeros_like(fake_output), fake_output)\n",
    "    total_loss = real_loss + fake_loss\n",
    "    return total_loss\n",
    "    \n",
    "def generator_loss(fake_output):\n",
    "    return cross_entropy(tf.ones_like(fake_output), fake_output)"
   ]
  },
  {
   "cell_type": "code",
   "execution_count": 9,
   "metadata": {},
   "outputs": [],
   "source": [
    "generator_optimizer = tf.keras.optimizers.Adam(1e-4)\n",
    "discriminator_optimizer = tf.keras.optimizers.Adam(1e-4)"
   ]
  },
  {
   "cell_type": "code",
   "execution_count": 10,
   "metadata": {},
   "outputs": [],
   "source": [
    "checkpoint_dir = './training_checkpoints'\n",
    "checkpoint_prefix = os.path.join(checkpoint_dir, \"ckpt\")\n",
    "checkpoint = tf.train.Checkpoint(generator_optimizer=generator_optimizer,\n",
    "                                 discriminator_optimizer=discriminator_optimizer,\n",
    "                                 generator=generator,\n",
    "                                 discriminator=discriminator)"
   ]
  },
  {
   "cell_type": "code",
   "execution_count": 11,
   "metadata": {},
   "outputs": [],
   "source": [
    "EPOCHS = 50\n",
    "noise_dim = 100\n",
    "num_examples_to_generate = 16\n",
    "\n",
    "# 이 시드를 시간이 지나도 재활용하겠습니다. \n",
    "# (GIF 애니메이션에서 진전 내용을 시각화하는데 쉽기 때문입니다.) \n",
    "seed = tf.random.normal([num_examples_to_generate, noise_dim])"
   ]
  },
  {
   "cell_type": "code",
   "execution_count": null,
   "metadata": {},
   "outputs": [],
   "source": [
    "# `tf.function`이 어떻게 사용되는지 주목해 주세요.\n",
    "# 이 데코레이터는 함수를 \"컴파일\"합니다.\n",
    "@tf.function\n",
    "def train_step(images):\n",
    "    noise = tf.random.normal([BATCH_SIZE, noise_dim])\n",
    "\n",
    "    with tf.GradientTape() as gen_tape, tf.GradientTape() as disc_tape:\n",
    "      generated_images = generator(noise, training=True)\n",
    "\n",
    "      real_output = discriminator(images, training=True)\n",
    "      fake_output = discriminator(generated_images, training=True)\n",
    "\n",
    "      gen_loss = generator_loss(fake_output)\n",
    "      disc_loss = discriminator_loss(real_output, fake_output)\n",
    "\n",
    "    gradients_of_generator = gen_tape.gradient(gen_loss, generator.trainable_variables)\n",
    "    gradients_of_discriminator = disc_tape.gradient(disc_loss, discriminator.trainable_variables)\n",
    "\n",
    "    generator_optimizer.apply_gradients(zip(gradients_of_generator, generator.trainable_variables))\n",
    "    discriminator_optimizer.apply_gradients(zip(gradients_of_discriminator, discriminator.trainable_variables))\n",
    "\n",
    "def train(dataset, epochs):\n",
    "  for epoch in range(epochs):\n",
    "    start = time.time()\n",
    "\n",
    "    for image_batch in dataset:\n",
    "      train_step(image_batch)\n",
    "\n",
    "    # GIF를 위한 이미지를 바로 생성합니다.\n",
    "    display.clear_output(wait=True)\n",
    "    generate_and_save_images(generator, epoch + 1, seed)\n",
    "\n",
    "    # 15 에포크가 지날 때마다 모델을 저장합니다.\n",
    "    if (epoch + 1) % 15 == 0:\n",
    "      checkpoint.save(file_prefix = checkpoint_prefix)\n",
    "    \n",
    "    # print (' 에포크 {} 에서 걸린 시간은 {} 초 입니다'.format(epoch +1, time.time()-start))\n",
    "    print ('Time for epoch {} is {} sec'.format(epoch + 1, time.time()-start))\n",
    "\n",
    "  # 마지막 에포크가 끝난 후 생성합니다.\n",
    "  display.clear_output(wait=True)\n",
    "  generate_and_save_images(generator, epochs, seed)\n",
    "\n",
    "def generate_and_save_images(model, epoch, test_input):\n",
    "  # `training`이 False로 맞춰진 것을 주목하세요.\n",
    "  # 이렇게 하면 (배치정규화를 포함하여) 모든 층들이 추론 모드로 실행됩니다. \n",
    "  predictions = model(test_input, training=False)\n",
    "\n",
    "  fig = plt.figure(figsize=(4,4))\n",
    "\n",
    "  for i in range(predictions.shape[0]):\n",
    "      plt.subplot(4, 4, i+1)\n",
    "      plt.imshow(predictions[i, :, :, 0] * 127.5 + 127.5, cmap='gray')\n",
    "      plt.axis('off')\n",
    "\n",
    "  plt.savefig('image_at_epoch_{:04d}.png'.format(epoch))\n",
    "  plt.show()"
   ]
  },
  {
   "cell_type": "code",
   "execution_count": null,
   "metadata": {},
   "outputs": [],
   "source": [
    "%%time\n",
    "train(train_dataset, EPOCHS)"
   ]
  },
  {
   "cell_type": "code",
   "execution_count": null,
   "metadata": {},
   "outputs": [],
   "source": [
    "checkpoint.restore(tf.train.latest_checkpoint(checkpoint_dir))"
   ]
  },
  {
   "cell_type": "code",
   "execution_count": null,
   "metadata": {},
   "outputs": [],
   "source": [
    "# 에포크 숫자를 사용하여 하나의 이미지를 보여줍니다.\n",
    "def display_image(epoch_no):\n",
    "  return PIL.Image.open('image_at_epoch_{:04d}.png'.format(epoch_no))"
   ]
  },
  {
   "cell_type": "code",
   "execution_count": null,
   "metadata": {},
   "outputs": [],
   "source": [
    "display_image(EPOCHS)"
   ]
  },
  {
   "cell_type": "code",
   "execution_count": null,
   "metadata": {},
   "outputs": [],
   "source": [
    "anim_file = 'dcgan.gif'\n",
    "\n",
    "with imageio.get_writer(anim_file, mode='I') as writer:\n",
    "  filenames = glob.glob('image*.png')\n",
    "  filenames = sorted(filenames)\n",
    "  last = -1\n",
    "  for i,filename in enumerate(filenames):\n",
    "    frame = 2*(i**0.5)\n",
    "    if round(frame) > round(last):\n",
    "      last = frame\n",
    "    else:\n",
    "      continue\n",
    "    image = imageio.imread(filename)\n",
    "    writer.append_data(image)\n",
    "  image = imageio.imread(filename)\n",
    "  writer.append_data(image)\n",
    "\n",
    "import IPython\n",
    "if IPython.version_info > (6,2,0,''):\n",
    "  display.Image(filename=anim_file)"
   ]
  },
  {
   "cell_type": "code",
   "execution_count": null,
   "metadata": {},
   "outputs": [],
   "source": []
  }
 ],
 "metadata": {
  "language_info": {
   "codemirror_mode": {
    "name": "ipython",
    "version": 3
   },
   "file_extension": ".py",
   "mimetype": "text/x-python",
   "name": "python",
   "nbconvert_exporter": "python",
   "pygments_lexer": "ipython3",
   "version": "3.7.4-final"
  },
  "orig_nbformat": 2,
  "kernelspec": {
   "name": "python37464bitanaconda3condae788c5fa592f4db3927eca9f2fe371f6",
   "display_name": "Python 3.7.4 64-bit ('anaconda3': conda)"
  }
 },
 "nbformat": 4,
 "nbformat_minor": 2
}