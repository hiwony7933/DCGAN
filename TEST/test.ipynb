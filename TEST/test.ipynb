{
 "cells": [
  {
   "cell_type": "code",
   "execution_count": 3,
   "metadata": {},
   "outputs": [
    {
     "output_type": "stream",
     "name": "stdout",
     "text": "1.0\n1.0\n3.0\n3.0\n6.0\n6.0\n10.0\n10.0\n15.0\n15.0\n21.0\n21.0\n28.0\n28.0\n36.0\n36.0\n45.0\n45.0\n55.0\n55.0\n"
    }
   ],
   "source": [
    "a = 0.0\n",
    "b = 0.0 \n",
    "\n",
    "for i in range(0, 10) : \n",
    "    a_ = i + 1\n",
    "    b_ = i + 1\n",
    "    a += a_\n",
    "    b += b_\n",
    "    print(a)\n",
    "    print(b)\n",
    "    "
   ]
  },
  {
   "cell_type": "code",
   "execution_count": 58,
   "metadata": {},
   "outputs": [
    {
     "output_type": "stream",
     "name": "stdout",
     "text": "[2.5]\n"
    }
   ],
   "source": [
    "import numpy as np \n",
    "\n",
    "b = np.array([])\n",
    "a1 = np.array([[1],[2],[3],[4]])\n",
    "a2 = np.array([[4,5,6],[1,2,9]])\n",
    "\n",
    "lne_a = len(a1)\n",
    "\n",
    "c = 0\n",
    "\n",
    "for i in range(lne_a) : \n",
    "    c += a1[i]\n",
    "    #print(a1[i])\n",
    "print(c / lne_a)"
   ]
  },
  {
   "cell_type": "code",
   "execution_count": 7,
   "metadata": {},
   "outputs": [
    {
     "output_type": "stream",
     "name": "stdout",
     "text": "(1797, 64)\n[ 0.  0.  5. 13.  9.  1.  0.  0.  0.  0. 13. 15. 10. 15.  5.  0.  0.  3.\n 15.  2.  0. 11.  8.  0.  0.  4. 12.  0.  0.  8.  8.  0.  0.  5.  8.  0.\n  0.  9.  8.  0.  0.  4. 11.  0.  1. 12.  7.  0.  0.  2. 14.  5. 10. 12.\n  0.  0.  0.  0.  6. 13. 10.  0.  0.  0.]\n1797\n"
    },
    {
     "output_type": "display_data",
     "data": {
      "text/plain": "<Figure size 432x288 with 10 Axes>",
      "image/svg+xml": "<?xml version=\"1.0\" encoding=\"utf-8\" standalone=\"no\"?>\n<!DOCTYPE svg PUBLIC \"-//W3C//DTD SVG 1.1//EN\"\n  \"http://www.w3.org/Graphics/SVG/1.1/DTD/svg11.dtd\">\n<!-- Created with matplotlib (https://matplotlib.org/) -->\n<svg height=\"194.227774pt\" version=\"1.1\" viewBox=\"0 0 352.7 194.227774\" width=\"352.7pt\" xmlns=\"http://www.w3.org/2000/svg\" xmlns:xlink=\"http://www.w3.org/1999/xlink\">\n <defs>\n  <style type=\"text/css\">\n*{stroke-linecap:butt;stroke-linejoin:round;}\n  </style>\n </defs>\n <g id=\"figure_1\">\n  <g id=\"patch_1\">\n   <path d=\"M 0 194.227774 \nL 352.7 194.227774 \nL 352.7 0 \nL 0 0 \nz\n\" style=\"fill:none;\"/>\n  </g>\n  <g id=\"axes_1\">\n   <g id=\"patch_2\">\n    <path d=\"M 10.7 64.924138 \nL 68.424138 64.924138 \nL 68.424138 7.2 \nL 10.7 7.2 \nz\n\" style=\"fill:#ffffff;\"/>\n   </g>\n   <g clip-path=\"url(#p6265879eb6)\">\n    <image height=\"58\" id=\"image14c747837f\" transform=\"scale(1 -1)translate(0 -58)\" width=\"58\" x=\"10.7\" xlink:href=\"data:image/png;base64,\niVBORw0KGgoAAAANSUhEUgAAADoAAAA6CAYAAADhu0ooAAAABHNCSVQICAgIfAhkiAAAATJJREFUaIHtmVENg0AQRLdNDYAELIAELIAEkAASwAIWkAASQAJYQEKrYOeSo02a2X2/E/buZT8m1z5E5C0RNE0D867r1GzfdzWr6zrmOkGeP5n6h7goGy7KhhnRh4B6ybJM/XDbNji4bVs1q6pKzdCZRVHAMxFmNuqibLgoGy7KxguFqNPQU0tEZJ5nNVvXVc2WZVEz9PQTERnHUc3MbNRF2XBRNsyIwnpJkkTNQvWCuK4rai66TwgzG3VRNlyUDTOisF5QDZRl+fXLhM68g5mNuigbLsqGGdHoesnzHA5GP6yd5xk1986LycxGXZQNF2XDRdmAPYp6C3WhiMhxHGqG/oBCz79pmuCZCDMbdVE2XJQNM6KwXhB938N8GAY1Q8+/NE2jvgthZqMuyoaLsmFG9AO2pEeAd6Rw7QAAAABJRU5ErkJggg==\" y=\"-6.924138\"/>\n   </g>\n   <g id=\"matplotlib.axis_1\"/>\n   <g id=\"matplotlib.axis_2\"/>\n   <g id=\"patch_3\">\n    <path d=\"M 10.7 64.924138 \nL 10.7 7.2 \n\" style=\"fill:none;stroke:#000000;stroke-linecap:square;stroke-linejoin:miter;stroke-width:0.8;\"/>\n   </g>\n   <g id=\"patch_4\">\n    <path d=\"M 68.424138 64.924138 \nL 68.424138 7.2 \n\" style=\"fill:none;stroke:#000000;stroke-linecap:square;stroke-linejoin:miter;stroke-width:0.8;\"/>\n   </g>\n   <g id=\"patch_5\">\n    <path d=\"M 10.7 64.924138 \nL 68.424138 64.924138 \n\" style=\"fill:none;stroke:#000000;stroke-linecap:square;stroke-linejoin:miter;stroke-width:0.8;\"/>\n   </g>\n   <g id=\"patch_6\">\n    <path d=\"M 10.7 7.2 \nL 68.424138 7.2 \n\" style=\"fill:none;stroke:#000000;stroke-linecap:square;stroke-linejoin:miter;stroke-width:0.8;\"/>\n   </g>\n  </g>\n  <g id=\"axes_2\">\n   <g id=\"patch_7\">\n    <path d=\"M 79.968966 64.924138 \nL 137.693103 64.924138 \nL 137.693103 7.2 \nL 79.968966 7.2 \nz\n\" style=\"fill:#ffffff;\"/>\n   </g>\n   <g clip-path=\"url(#p6306486904)\">\n    <image height=\"58\" id=\"image10ab988041\" transform=\"scale(1 -1)translate(0 -58)\" width=\"58\" x=\"79.968966\" xlink:href=\"data:image/png;base64,\niVBORw0KGgoAAAANSUhEUgAAADoAAAA6CAYAAADhu0ooAAAABHNCSVQICAgIfAhkiAAAAPlJREFUaIHtmssNhDAMRM1q71AKnaQF6IASUkrogA6ghNAJHexWYEeyNocdz7uOEvnJByufQUQ+0oHjONQspaRm+76r2bIs7npe7pV/BkXRoCgaYUTf3oXTNJm5NUIsrutyrWsRpqMURYOiaFAUDYqiQVE0KIpGGFH3Ma0XtdYu+4bpKEXRoCgaYUTN8bJtm5rlnH9di4iIPM/TZd8wHaUoGhRFI4zoIM4/DPM8m7n1WDSOo5qt66pmpZRWWSphOkpRNCiKBkXRcN8Ctm7rrDlqfeRozWcvYTpKUTQoikYY0W6PTNZfwfu+1ew8zx7lxOkoRdGgKBphRL9AaiT1DXhoqAAAAABJRU5ErkJggg==\" y=\"-6.924138\"/>\n   </g>\n   <g id=\"matplotlib.axis_3\"/>\n   <g id=\"matplotlib.axis_4\"/>\n   <g id=\"patch_8\">\n    <path d=\"M 79.968966 64.924138 \nL 79.968966 7.2 \n\" style=\"fill:none;stroke:#000000;stroke-linecap:square;stroke-linejoin:miter;stroke-width:0.8;\"/>\n   </g>\n   <g id=\"patch_9\">\n    <path d=\"M 137.693103 64.924138 \nL 137.693103 7.2 \n\" style=\"fill:none;stroke:#000000;stroke-linecap:square;stroke-linejoin:miter;stroke-width:0.8;\"/>\n   </g>\n   <g id=\"patch_10\">\n    <path d=\"M 79.968966 64.924138 \nL 137.693103 64.924138 \n\" style=\"fill:none;stroke:#000000;stroke-linecap:square;stroke-linejoin:miter;stroke-width:0.8;\"/>\n   </g>\n   <g id=\"patch_11\">\n    <path d=\"M 79.968966 7.2 \nL 137.693103 7.2 \n\" style=\"fill:none;stroke:#000000;stroke-linecap:square;stroke-linejoin:miter;stroke-width:0.8;\"/>\n   </g>\n  </g>\n  <g id=\"axes_3\">\n   <g id=\"patch_12\">\n    <path d=\"M 149.237931 64.924138 \nL 206.962069 64.924138 \nL 206.962069 7.2 \nL 149.237931 7.2 \nz\n\" style=\"fill:#ffffff;\"/>\n   </g>\n   <g clip-path=\"url(#p7a3557621c)\">\n    <image height=\"58\" id=\"image1f19e5a4fb\" transform=\"scale(1 -1)translate(0 -58)\" width=\"58\" x=\"149.237931\" xlink:href=\"data:image/png;base64,\niVBORw0KGgoAAAANSUhEUgAAADoAAAA6CAYAAADhu0ooAAAABHNCSVQICAgIfAhkiAAAATRJREFUaIHtmkGNhUAQRIvNCkACDsACCkACEnDAlwAOkAAKwAFIQAIo2FXQRTKbvVT3u1aYmZc+VJhMBuAH/0BVVWb2+XzMrGkaM5umie7Z972ZfdEvhQhRNUJUDTei3yxkFTHPM124LMukA63rambbtiWtCTiaaIiqEaJqhKgatEe7rjOz1J4EgLZtzYz16F9wM9EQVSNE1XAjmoHcAuZ5bn7IbtwAXiFFUSRl933TPRluJhqiaoSoGm5Eab0wWPUAvF7GcTSzfd+T1nzDzURDVI0QVcONaHK9sHcIAK+CZVnMbBgGM8uy7PVcFm4mGqJqhKgaIapGco+yhxwAcByHmT3PY2bspo/dEL7hZqIhqkaIquFGlL5hYJznSfO6rs2M/aZd15V6JIqbiYaoGiGqhhvRX0cJOlEnwP0AAAAAAElFTkSuQmCC\" y=\"-6.924138\"/>\n   </g>\n   <g id=\"matplotlib.axis_5\"/>\n   <g id=\"matplotlib.axis_6\"/>\n   <g id=\"patch_13\">\n    <path d=\"M 149.237931 64.924138 \nL 149.237931 7.2 \n\" style=\"fill:none;stroke:#000000;stroke-linecap:square;stroke-linejoin:miter;stroke-width:0.8;\"/>\n   </g>\n   <g id=\"patch_14\">\n    <path d=\"M 206.962069 64.924138 \nL 206.962069 7.2 \n\" style=\"fill:none;stroke:#000000;stroke-linecap:square;stroke-linejoin:miter;stroke-width:0.8;\"/>\n   </g>\n   <g id=\"patch_15\">\n    <path d=\"M 149.237931 64.924138 \nL 206.962069 64.924138 \n\" style=\"fill:none;stroke:#000000;stroke-linecap:square;stroke-linejoin:miter;stroke-width:0.8;\"/>\n   </g>\n   <g id=\"patch_16\">\n    <path d=\"M 149.237931 7.2 \nL 206.962069 7.2 \n\" style=\"fill:none;stroke:#000000;stroke-linecap:square;stroke-linejoin:miter;stroke-width:0.8;\"/>\n   </g>\n  </g>\n  <g id=\"axes_4\">\n   <g id=\"patch_17\">\n    <path d=\"M 218.506897 64.924138 \nL 276.231034 64.924138 \nL 276.231034 7.2 \nL 218.506897 7.2 \nz\n\" style=\"fill:#ffffff;\"/>\n   </g>\n   <g clip-path=\"url(#p2d90132ddb)\">\n    <image height=\"58\" id=\"imageb3f81967d4\" transform=\"scale(1 -1)translate(0 -58)\" width=\"58\" x=\"218.506897\" xlink:href=\"data:image/png;base64,\niVBORw0KGgoAAAANSUhEUgAAADoAAAA6CAYAAADhu0ooAAAABHNCSVQICAgIfAhkiAAAARlJREFUaIHtmlENg0AQRJcGA1hAC0gACSABLCDhtIAFJIAFJLQKbq7ZpB+dnfe7ub2+bMJkm6vM7G0OlmWB9WmaPG3tOI5sbZ5nV08zs5f75J8hUTYkykYY0dp7sGkaWEdRgM6mlLw/Cd4ZZqISZUOibEiUDXeOruvqvhTlKFrTnudx3xlmohJlQ6JshBGtzPkvYAkUIfu+u3r2fQ/rKH7CTFSibEiUjTCi7u2lbVtYv64rW0MbyjiO2Zq2ly+QKBsSZSOMKIwXFCGlT/193z/p6yXMRCXKhkTZkCgbMEfRe75hGGDjbduyNfQgo+u6bA2tdyXCTFSibEiUjTCiMF7QO4XSOoUiBK1w53nCvl7CTFSibEiUjTCiH3sjP0xuiR23AAAAAElFTkSuQmCC\" y=\"-6.924138\"/>\n   </g>\n   <g id=\"matplotlib.axis_7\"/>\n   <g id=\"matplotlib.axis_8\"/>\n   <g id=\"patch_18\">\n    <path d=\"M 218.506897 64.924138 \nL 218.506897 7.2 \n\" style=\"fill:none;stroke:#000000;stroke-linecap:square;stroke-linejoin:miter;stroke-width:0.8;\"/>\n   </g>\n   <g id=\"patch_19\">\n    <path d=\"M 276.231034 64.924138 \nL 276.231034 7.2 \n\" style=\"fill:none;stroke:#000000;stroke-linecap:square;stroke-linejoin:miter;stroke-width:0.8;\"/>\n   </g>\n   <g id=\"patch_20\">\n    <path d=\"M 218.506897 64.924138 \nL 276.231034 64.924138 \n\" style=\"fill:none;stroke:#000000;stroke-linecap:square;stroke-linejoin:miter;stroke-width:0.8;\"/>\n   </g>\n   <g id=\"patch_21\">\n    <path d=\"M 218.506897 7.2 \nL 276.231034 7.2 \n\" style=\"fill:none;stroke:#000000;stroke-linecap:square;stroke-linejoin:miter;stroke-width:0.8;\"/>\n   </g>\n  </g>\n  <g id=\"axes_5\">\n   <g id=\"patch_22\">\n    <path d=\"M 287.775862 64.924138 \nL 345.5 64.924138 \nL 345.5 7.2 \nL 287.775862 7.2 \nz\n\" style=\"fill:#ffffff;\"/>\n   </g>\n   <g clip-path=\"url(#pda005241b0)\">\n    <image height=\"58\" id=\"imagef7802724db\" transform=\"scale(1 -1)translate(0 -58)\" width=\"58\" x=\"287.775862\" xlink:href=\"data:image/png;base64,\niVBORw0KGgoAAAANSUhEUgAAADoAAAA6CAYAAADhu0ooAAAABHNCSVQICAgIfAhkiAAAAS5JREFUaIHtmksRhEAMRMPW3gEHOMACOEACFnCABHAADsABFlAAEkABqyDN1mxx2KTftWs+r3JIzScSkUseIMsyNdu2Tc3KslSzZVmC9/MKHvlnUNQaFLWGG9H3UxMnSaJm53mqWV3Xasb28gUUtQZFrUFRa0QCjmlFUagDp2mCE8dxrGbruqpZnudqlqYpXPM4DjVzU1GKWoOi1nAjCo9pqEWgTERkHEc1Q0ex69IvJauqgmsOw6BmbipKUWtQ1BpuRGF7medZzZqmgRO3bRu0ob7v1Qw9XN3hpqIUtQZFreFGFF6OIdAjkgh+EOq6LmjcHfu+q5mbilLUGhS1BkWtEfxZAz3oiOAbOXTcQr3wF9xUlKLWoKg13Ig+9hcQtReUPYWbilLUGhS1hhvRD2eCPW8l9P6dAAAAAElFTkSuQmCC\" y=\"-6.924138\"/>\n   </g>\n   <g id=\"matplotlib.axis_9\"/>\n   <g id=\"matplotlib.axis_10\"/>\n   <g id=\"patch_23\">\n    <path d=\"M 287.775862 64.924138 \nL 287.775862 7.2 \n\" style=\"fill:none;stroke:#000000;stroke-linecap:square;stroke-linejoin:miter;stroke-width:0.8;\"/>\n   </g>\n   <g id=\"patch_24\">\n    <path d=\"M 345.5 64.924138 \nL 345.5 7.2 \n\" style=\"fill:none;stroke:#000000;stroke-linecap:square;stroke-linejoin:miter;stroke-width:0.8;\"/>\n   </g>\n   <g id=\"patch_25\">\n    <path d=\"M 287.775862 64.924138 \nL 345.5 64.924138 \n\" style=\"fill:none;stroke:#000000;stroke-linecap:square;stroke-linejoin:miter;stroke-width:0.8;\"/>\n   </g>\n   <g id=\"patch_26\">\n    <path d=\"M 287.775862 7.2 \nL 345.5 7.2 \n\" style=\"fill:none;stroke:#000000;stroke-linecap:square;stroke-linejoin:miter;stroke-width:0.8;\"/>\n   </g>\n  </g>\n  <g id=\"axes_6\">\n   <g id=\"patch_27\">\n    <path d=\"M 10.7 183.527774 \nL 68.424138 183.527774 \nL 68.424138 125.803636 \nL 10.7 125.803636 \nz\n\" style=\"fill:#ffffff;\"/>\n   </g>\n   <g clip-path=\"url(#pb511108536)\">\n    <image height=\"58\" id=\"imagefea57e411d\" transform=\"scale(1 -1)translate(0 -58)\" width=\"58\" x=\"10.7\" xlink:href=\"data:image/png;base64,\niVBORw0KGgoAAAANSUhEUgAAADoAAAA6CAYAAADhu0ooAAAABHNCSVQICAgIfAhkiAAAASJJREFUaIHtmkERg1AMRNNO7yABCTgAFGABB4ADJIAEHOAApCABFLQKkj+TTg/d7LvuEHiTww58HiLyFgfzPJt53/eesbKuq5p1XeeaKSLydF/5Z1AUDYqiEUb0Ic56advWzO/7VrNpmtSsqio1a5rGvOdxHGoWZqMURYOiaFAUDXePfkNd12q277uaLctizh2GQc3CbJSiaFAUjTCir18NtiqkLEvXzPM8fQ8jgTZKUTQoikYYUXe9bNtm5qmvhBrjOKpZ6mDLIsxGKYoGRdEII+qul6Io3De1DqCsN5s8z82513WpWZiNUhQNiqJBUTTcPZrqNIssy9TM+npo9WSKMBulKBoURSOMqLteUgc+1n953/wy7iXMRimKBkXRCCP6AXDGMxl3HFrqAAAAAElFTkSuQmCC\" y=\"-125.527774\"/>\n   </g>\n   <g id=\"matplotlib.axis_11\"/>\n   <g id=\"matplotlib.axis_12\"/>\n   <g id=\"patch_28\">\n    <path d=\"M 10.7 183.527774 \nL 10.7 125.803636 \n\" style=\"fill:none;stroke:#000000;stroke-linecap:square;stroke-linejoin:miter;stroke-width:0.8;\"/>\n   </g>\n   <g id=\"patch_29\">\n    <path d=\"M 68.424138 183.527774 \nL 68.424138 125.803636 \n\" style=\"fill:none;stroke:#000000;stroke-linecap:square;stroke-linejoin:miter;stroke-width:0.8;\"/>\n   </g>\n   <g id=\"patch_30\">\n    <path d=\"M 10.7 183.527774 \nL 68.424138 183.527774 \n\" style=\"fill:none;stroke:#000000;stroke-linecap:square;stroke-linejoin:miter;stroke-width:0.8;\"/>\n   </g>\n   <g id=\"patch_31\">\n    <path d=\"M 10.7 125.803636 \nL 68.424138 125.803636 \n\" style=\"fill:none;stroke:#000000;stroke-linecap:square;stroke-linejoin:miter;stroke-width:0.8;\"/>\n   </g>\n  </g>\n  <g id=\"axes_7\">\n   <g id=\"patch_32\">\n    <path d=\"M 79.968966 183.527774 \nL 137.693103 183.527774 \nL 137.693103 125.803636 \nL 79.968966 125.803636 \nz\n\" style=\"fill:#ffffff;\"/>\n   </g>\n   <g clip-path=\"url(#pc8b0289448)\">\n    <image height=\"58\" id=\"imagecd01556900\" transform=\"scale(1 -1)translate(0 -58)\" width=\"58\" x=\"79.968966\" xlink:href=\"data:image/png;base64,\niVBORw0KGgoAAAANSUhEUgAAADoAAAA6CAYAAADhu0ooAAAABHNCSVQICAgIfAhkiAAAARBJREFUaIHtmkENhEAQBIfL/UECDkACEpCAAySAJHCABCQgAQd3CqY3GcKnp+vbgaUyCZ3dbGVmPwvQNA3M13V1s2ma3Ow4jtA7zczO83SzD3ySCImyIVE20oh+ow+iijAzm+fZzfZ9d7NhGNxsHEe4purFJMqHRNmQKBuv9SiibVs3q+vazbZtC6+ZZqISZUOibKQRrSx4CnjfN8zRlgnVBMqu6yp+l0eaiUqUDYmykUY0XC+lXz2qn77vI0s+Is1EJcqGRNlIIxo+HCvtXrquczNUL2jX84Q0E5UoGxJlQ6JshHt0WRaYo9M8dOlCPfoQibIhUTbSiIZPAUugK+PomvpbJ4RpJipRNiTKRhrRP1+IPBy0zQzVAAAAAElFTkSuQmCC\" y=\"-125.527774\"/>\n   </g>\n   <g id=\"matplotlib.axis_13\"/>\n   <g id=\"matplotlib.axis_14\"/>\n   <g id=\"patch_33\">\n    <path d=\"M 79.968966 183.527774 \nL 79.968966 125.803636 \n\" style=\"fill:none;stroke:#000000;stroke-linecap:square;stroke-linejoin:miter;stroke-width:0.8;\"/>\n   </g>\n   <g id=\"patch_34\">\n    <path d=\"M 137.693103 183.527774 \nL 137.693103 125.803636 \n\" style=\"fill:none;stroke:#000000;stroke-linecap:square;stroke-linejoin:miter;stroke-width:0.8;\"/>\n   </g>\n   <g id=\"patch_35\">\n    <path d=\"M 79.968966 183.527774 \nL 137.693103 183.527774 \n\" style=\"fill:none;stroke:#000000;stroke-linecap:square;stroke-linejoin:miter;stroke-width:0.8;\"/>\n   </g>\n   <g id=\"patch_36\">\n    <path d=\"M 79.968966 125.803636 \nL 137.693103 125.803636 \n\" style=\"fill:none;stroke:#000000;stroke-linecap:square;stroke-linejoin:miter;stroke-width:0.8;\"/>\n   </g>\n  </g>\n  <g id=\"axes_8\">\n   <g id=\"patch_37\">\n    <path d=\"M 149.237931 183.527774 \nL 206.962069 183.527774 \nL 206.962069 125.803636 \nL 149.237931 125.803636 \nz\n\" style=\"fill:#ffffff;\"/>\n   </g>\n   <g clip-path=\"url(#p411dca8e00)\">\n    <image height=\"58\" id=\"image7677aff650\" transform=\"scale(1 -1)translate(0 -58)\" width=\"58\" x=\"149.237931\" xlink:href=\"data:image/png;base64,\niVBORw0KGgoAAAANSUhEUgAAADoAAAA6CAYAAADhu0ooAAAABHNCSVQICAgIfAhkiAAAARNJREFUaIHtmlENhEAMRMsFAUjAARaQgBQcYAEJ4AAcIAEpoIBT0CEp4S6Zzvtt6PLSj2ayW5jZZQH2fYf1YRjc2rqukSMf8fn5iX9ComxIlI00omX0w23bYH2eZ7dW17VbO44j+EeYNBOVKBsSZUOibBQWjGl3XJfftus6t/ZWhEszUYmyIVE20ojC9YLi1DiOsHHbtqEfQqvnLhoi0kxUomxIlI00onC9oBURXR9mZn3fv/LdNE1uLc1EJcqGRNlIIwovmVBaeJIkECi9LMsS7ptmohJlQ6JsSJSN8CVTNGqZ4XeEqG9VVbAvio5pJipRNiTKRhrR8FvAO9AqQBdUTdO4tfM8w2emmahE2ZAoG2lEvw0aN7S/T8zAAAAAAElFTkSuQmCC\" y=\"-125.527774\"/>\n   </g>\n   <g id=\"matplotlib.axis_15\"/>\n   <g id=\"matplotlib.axis_16\"/>\n   <g id=\"patch_38\">\n    <path d=\"M 149.237931 183.527774 \nL 149.237931 125.803636 \n\" style=\"fill:none;stroke:#000000;stroke-linecap:square;stroke-linejoin:miter;stroke-width:0.8;\"/>\n   </g>\n   <g id=\"patch_39\">\n    <path d=\"M 206.962069 183.527774 \nL 206.962069 125.803636 \n\" style=\"fill:none;stroke:#000000;stroke-linecap:square;stroke-linejoin:miter;stroke-width:0.8;\"/>\n   </g>\n   <g id=\"patch_40\">\n    <path d=\"M 149.237931 183.527774 \nL 206.962069 183.527774 \n\" style=\"fill:none;stroke:#000000;stroke-linecap:square;stroke-linejoin:miter;stroke-width:0.8;\"/>\n   </g>\n   <g id=\"patch_41\">\n    <path d=\"M 149.237931 125.803636 \nL 206.962069 125.803636 \n\" style=\"fill:none;stroke:#000000;stroke-linecap:square;stroke-linejoin:miter;stroke-width:0.8;\"/>\n   </g>\n  </g>\n  <g id=\"axes_9\">\n   <g id=\"patch_42\">\n    <path d=\"M 218.506897 183.527774 \nL 276.231034 183.527774 \nL 276.231034 125.803636 \nL 218.506897 125.803636 \nz\n\" style=\"fill:#ffffff;\"/>\n   </g>\n   <g clip-path=\"url(#p7d1e1ab4a0)\">\n    <image height=\"58\" id=\"imagee85f6835d6\" transform=\"scale(1 -1)translate(0 -58)\" width=\"58\" x=\"218.506897\" xlink:href=\"data:image/png;base64,\niVBORw0KGgoAAAANSUhEUgAAADoAAAA6CAYAAADhu0ooAAAABHNCSVQICAgIfAhkiAAAAS9JREFUaIHtmkGRhTAQROdv7R0kgBMcYAEJSAAHXwI4wAGgAHCABFCwq2A6VTn29Lt2JeHVHKYm4WNmf5bBsiwwb9vWzd73dbNt29ys6zp45vM8bvYDVxIhUTYkykYY0Y+B9lKWpbvwvm+4cVVVWdlxHG42jiM8cxgGNwtTUYmyIVE2JMrGLwpRvyuKAm7c933Wvtd1udk0TfBMRJiKSpQNibIRRhSOaYimaWC+rmvOtlbXtZulRkNEmIpKlA2JshFGFE4vCPSgk2LfdzdDj0yplobaT5iKSpQNibIRRjS7vaT+J5jnOWstalvoUs1M7cXMJMqHRNmQKBvZt4BonDJL9zwP1AtTYxoiTEUlyoZE2Qgjmj2mnecJc9Re0L8I3+8384swYSoqUTYkykYY0X8FSkcLs9cRpQAAAABJRU5ErkJggg==\" y=\"-125.527774\"/>\n   </g>\n   <g id=\"matplotlib.axis_17\"/>\n   <g id=\"matplotlib.axis_18\"/>\n   <g id=\"patch_43\">\n    <path d=\"M 218.506897 183.527774 \nL 218.506897 125.803636 \n\" style=\"fill:none;stroke:#000000;stroke-linecap:square;stroke-linejoin:miter;stroke-width:0.8;\"/>\n   </g>\n   <g id=\"patch_44\">\n    <path d=\"M 276.231034 183.527774 \nL 276.231034 125.803636 \n\" style=\"fill:none;stroke:#000000;stroke-linecap:square;stroke-linejoin:miter;stroke-width:0.8;\"/>\n   </g>\n   <g id=\"patch_45\">\n    <path d=\"M 218.506897 183.527774 \nL 276.231034 183.527774 \n\" style=\"fill:none;stroke:#000000;stroke-linecap:square;stroke-linejoin:miter;stroke-width:0.8;\"/>\n   </g>\n   <g id=\"patch_46\">\n    <path d=\"M 218.506897 125.803636 \nL 276.231034 125.803636 \n\" style=\"fill:none;stroke:#000000;stroke-linecap:square;stroke-linejoin:miter;stroke-width:0.8;\"/>\n   </g>\n  </g>\n  <g id=\"axes_10\">\n   <g id=\"patch_47\">\n    <path d=\"M 287.775862 183.527774 \nL 345.5 183.527774 \nL 345.5 125.803636 \nL 287.775862 125.803636 \nz\n\" style=\"fill:#ffffff;\"/>\n   </g>\n   <g clip-path=\"url(#p8ddde87ed8)\">\n    <image height=\"58\" id=\"image46fa4ddff2\" transform=\"scale(1 -1)translate(0 -58)\" width=\"58\" x=\"287.775862\" xlink:href=\"data:image/png;base64,\niVBORw0KGgoAAAANSUhEUgAAADoAAAA6CAYAAADhu0ooAAAABHNCSVQICAgIfAhkiAAAARlJREFUaIHtmlERg0AMREOnAsABDkACEpCAJHCCBCSAAnDSGmj2OmH60c2+38xx9yYfO5ejMrOXBZjnGdb7vndrdV27tWma3Nq+78VzeTzCK/8MibIhUTbSiFYWjJc7oGhC8TKOI/zutm1uLU1HJcqGRNmQKBs/y1F0TUPXLZSxbdvCPVHOpumoRNmQKBtpRJ/RhaWJXNd1bm1ZFreGrmkoskqk6ahE2ZAoG2lEYbygxyAUH2ZmTdO4tXVdC8f6zHVdoXVmiToqUTYkykYaURgvpWEUAkUIiok7eyLSdFSibEiUDYmyAR+ZUKad5/mD45gdx+HWNAX8AomyIVE20oiG/2EoTfLQBHEYhsiWt0jTUYmyIVE20oi+ATuAMeEQdB5RAAAAAElFTkSuQmCC\" y=\"-125.527774\"/>\n   </g>\n   <g id=\"matplotlib.axis_19\"/>\n   <g id=\"matplotlib.axis_20\"/>\n   <g id=\"patch_48\">\n    <path d=\"M 287.775862 183.527774 \nL 287.775862 125.803636 \n\" style=\"fill:none;stroke:#000000;stroke-linecap:square;stroke-linejoin:miter;stroke-width:0.8;\"/>\n   </g>\n   <g id=\"patch_49\">\n    <path d=\"M 345.5 183.527774 \nL 345.5 125.803636 \n\" style=\"fill:none;stroke:#000000;stroke-linecap:square;stroke-linejoin:miter;stroke-width:0.8;\"/>\n   </g>\n   <g id=\"patch_50\">\n    <path d=\"M 287.775862 183.527774 \nL 345.5 183.527774 \n\" style=\"fill:none;stroke:#000000;stroke-linecap:square;stroke-linejoin:miter;stroke-width:0.8;\"/>\n   </g>\n   <g id=\"patch_51\">\n    <path d=\"M 287.775862 125.803636 \nL 345.5 125.803636 \n\" style=\"fill:none;stroke:#000000;stroke-linecap:square;stroke-linejoin:miter;stroke-width:0.8;\"/>\n   </g>\n  </g>\n </g>\n <defs>\n  <clipPath id=\"p6265879eb6\">\n   <rect height=\"57.724138\" width=\"57.724138\" x=\"10.7\" y=\"7.2\"/>\n  </clipPath>\n  <clipPath id=\"p6306486904\">\n   <rect height=\"57.724138\" width=\"57.724138\" x=\"79.968966\" y=\"7.2\"/>\n  </clipPath>\n  <clipPath id=\"p7a3557621c\">\n   <rect height=\"57.724138\" width=\"57.724138\" x=\"149.237931\" y=\"7.2\"/>\n  </clipPath>\n  <clipPath id=\"p2d90132ddb\">\n   <rect height=\"57.724138\" width=\"57.724138\" x=\"218.506897\" y=\"7.2\"/>\n  </clipPath>\n  <clipPath id=\"pda005241b0\">\n   <rect height=\"57.724138\" width=\"57.724138\" x=\"287.775862\" y=\"7.2\"/>\n  </clipPath>\n  <clipPath id=\"pb511108536\">\n   <rect height=\"57.724138\" width=\"57.724138\" x=\"10.7\" y=\"125.803636\"/>\n  </clipPath>\n  <clipPath id=\"pc8b0289448\">\n   <rect height=\"57.724138\" width=\"57.724138\" x=\"79.968966\" y=\"125.803636\"/>\n  </clipPath>\n  <clipPath id=\"p411dca8e00\">\n   <rect height=\"57.724138\" width=\"57.724138\" x=\"149.237931\" y=\"125.803636\"/>\n  </clipPath>\n  <clipPath id=\"p7d1e1ab4a0\">\n   <rect height=\"57.724138\" width=\"57.724138\" x=\"218.506897\" y=\"125.803636\"/>\n  </clipPath>\n  <clipPath id=\"p8ddde87ed8\">\n   <rect height=\"57.724138\" width=\"57.724138\" x=\"287.775862\" y=\"125.803636\"/>\n  </clipPath>\n </defs>\n</svg>\n",
      "image/png": "[encoded data removed]"
     },
     "metadata": {}
    }
   ],
   "source": [
    "# load library\n",
    "\n",
    "from sklearn.datasets import load_digits\n",
    "\n",
    "import matplotlib\n",
    "\n",
    "import matplotlib.pyplot as plt\n",
    "\n",
    "\n",
    "\n",
    "# matplotlib 설정\n",
    "\n",
    "matplotlib.rc('font', family='AppleGothic') # 한글 출력\n",
    "plt.rcParams['axes.unicode_minus'] = False # 축 - 설정\n",
    "\n",
    "# data load\n",
    "digits = load_digits()\n",
    "d = digits.data\n",
    "print(d.shape)\n",
    "print(d[0])\n",
    "print(len(d))\n",
    "\n",
    "# subplot 객체 생성\n",
    "\n",
    "fig, axes = plt.subplots(2, 5, #  subplot객체(2x5)를 axes에 할당\n",
    "                         subplot_kw={'xticks':(), 'yticks':()}) # subplot 축 눈금 해제\n",
    "for ax, img in zip(axes.ravel(), digits.images): # axes.ravel()과 digits.images를 하나씩 할당\n",
    "\n",
    "    ax.imshow(img)\n",
    "\n",
    "plt.gray() # 그래프 흑백\n",
    "\n",
    "plt.show() # 그래프 출력"
   ]
  },
  {
   "cell_type": "code",
   "execution_count": null,
   "metadata": {},
   "outputs": [],
   "source": []
  },
  {
   "cell_type": "code",
   "execution_count": null,
   "metadata": {},
   "outputs": [],
   "source": []
  }
 ],
 "metadata": {
  "language_info": {
   "codemirror_mode": {
    "name": "ipython",
    "version": 3
   },
   "file_extension": ".py",
   "mimetype": "text/x-python",
   "name": "python",
   "nbconvert_exporter": "python",
   "pygments_lexer": "ipython3",
   "version": "3.7.4-final"
  },
  "orig_nbformat": 2,
  "kernelspec": {
   "name": "python37464bitanaconda3condae788c5fa592f4db3927eca9f2fe371f6",
   "display_name": "Python 3.7.4 64-bit ('anaconda3': conda)"
  }
 },
 "nbformat": 4,
 "nbformat_minor": 2
}